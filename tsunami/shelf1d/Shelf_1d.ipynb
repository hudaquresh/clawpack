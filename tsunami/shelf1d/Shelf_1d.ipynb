{
 "metadata": {
  "name": ""
 },
 "nbformat": 3,
 "nbformat_minor": 0,
 "worksheets": [
  {
   "cells": [
    {
     "cell_type": "markdown",
     "metadata": {},
     "source": [
      "# Tsunami-like wave approaching a continental shelf\n",
      "\n",
      "This one dimensional test problem consists of a flat ocean floor, linear continental slope, flat continental shelf, and a solid wall reflecting boundary.  \n",
      "\n",
      "It is designed to illustrate how a tsunami wave is modified as it moves from the deep ocean onto the continental shelf, and the manner in which some of the energy can be trapped on the shelf and bounce back and forth.\n"
     ]
    },
    {
     "cell_type": "code",
     "collapsed": false,
     "input": [
      "%pylab inline"
     ],
     "language": "python",
     "metadata": {},
     "outputs": [],
     "prompt_number": null
    },
    {
     "cell_type": "markdown",
     "metadata": {},
     "source": [
      "Check that the CLAW environment variable is set.  (It must be set in the Unix shell before starting the notebook server)."
     ]
    },
    {
     "cell_type": "code",
     "collapsed": false,
     "input": [
      "try:\n",
      "    import clawpack\n",
      "    location = clawpack.__file__.replace('clawpack/__init__.pyc','')\n",
      "    print \"Using Clawpack from \",location\n",
      "except:\n",
      "    print \"*** Problem importing Clawpack -- check if environment variable set\""
     ],
     "language": "python",
     "metadata": {},
     "outputs": [],
     "prompt_number": null
    },
    {
     "cell_type": "markdown",
     "metadata": {},
     "source": [
      "Import some modules needed below..."
     ]
    },
    {
     "cell_type": "code",
     "collapsed": false,
     "input": [
      "import clawpack.visclaw.JSAnimation.JSAnimation_frametools as J\n",
      "from clawpack.clawutil import nbtools\n",
      "from IPython.display import FileLink"
     ],
     "language": "python",
     "metadata": {},
     "outputs": [],
     "prompt_number": null
    },
    {
     "cell_type": "markdown",
     "metadata": {},
     "source": [
      "### Compile the Fortran code:"
     ]
    },
    {
     "cell_type": "code",
     "collapsed": false,
     "input": [
      "nbtools.make_exe(new=True)"
     ],
     "language": "python",
     "metadata": {},
     "outputs": [],
     "prompt_number": null
    },
    {
     "cell_type": "markdown",
     "metadata": {},
     "source": [
      "### Make documentation files:"
     ]
    },
    {
     "cell_type": "code",
     "collapsed": false,
     "input": [
      "nbtools.make_htmls()"
     ],
     "language": "python",
     "metadata": {},
     "outputs": [],
     "prompt_number": null
    },
    {
     "cell_type": "markdown",
     "metadata": {},
     "source": [
      "## Set parameters, run code, and plot results..."
     ]
    },
    {
     "cell_type": "markdown",
     "metadata": {},
     "source": [
      "The module setrun.py contains all the default parameters.  See the <a href=\"README.html\">README.html</a> file for a link to setrun.py if you want to inspect this.\n",
      "\n",
      "A few of the parameters will be redefined below for each example."
     ]
    },
    {
     "cell_type": "code",
     "collapsed": false,
     "input": [
      "import setrun\n",
      "rundata = setrun.setrun()  # initialize most run-time variables for clawpack"
     ],
     "language": "python",
     "metadata": {},
     "outputs": [],
     "prompt_number": null
    },
    {
     "cell_type": "markdown",
     "metadata": {},
     "source": [
      "\n",
      "The cells below set the following parameters:\n",
      " - Bocean = depth of ocean (meters below sea level)\n",
      " - Bshelf = depth of continental shelf\n",
      " - width = width of continental slope (linear section connecting floor to shelf)\n",
      " - start = location of start of continental slope\n",
      " \n",
      "The initial data is a hump of water with zero velocity everywhere. Note that the intial hump splits into left-going and right-going waves.  The left-going wave leaves the domain (since \"non-reflecting\" boundary conditions are used at the left boundary).  \n",
      "\n",
      "The right-going wave hits the continental slope, where some of the wave energy is reflected and some is transmitted onto the shelf.  The transmitted wave reflects off the coastline (a vertical wall in this model).  The reflected wave hits the slope again and is partly transmitted out to the ocean, and partly reflected back towards shore.  Depending on the relative depths and steepness of the slope, quite a bit of energy may be trapped on the shelf and bounce back and forth for some time.\n",
      "\n",
      "Note that the wave propagates more slowly on the shelf than in the deep ocean.  In the shallow water equations the wave propagation speed is $\\sqrt{gh}$ where $g = 9.81 m/s^2$ is the gravitational acceleration and $h$ is the water depth.  The wave form also gets compressed as it moves onto the shelf because of the slower wave speed.\n",
      " \n",
      "### Example 1.\n",
      "\n",
      "The width of the slope is 1 m, so essentially a step discontinuity:"
     ]
    },
    {
     "cell_type": "code",
     "collapsed": false,
     "input": [
      "rundata.probdata.Bocean = -4000.\n",
      "rundata.probdata.Bshelf = -400.\n",
      "rundata.probdata.width = 1.\n",
      "rundata.probdata.start = -30.e3  # 30 kilometers offshore\n",
      "rundata.write()\n",
      "\n",
      "outdir,plotdir = nbtools.make_output_and_plots(verbose=False)\n",
      "anim = J.make_anim(plotdir, fname_base='frame*fig2', figsize=(8,6))\n",
      "anim"
     ],
     "language": "python",
     "metadata": {},
     "outputs": [],
     "prompt_number": null
    },
    {
     "cell_type": "markdown",
     "metadata": {},
     "source": [
      "### Example 2.\n",
      "\n",
      "The width of the slope is 1 m, so essentially a step discontinuity.  \n",
      "\n",
      "In this example the shelf is shallower than before.  Note that the wave on the shelf travels slower than in Example 1, and is more compressed and higher amplitude. "
     ]
    },
    {
     "cell_type": "code",
     "collapsed": false,
     "input": [
      "rundata.probdata.Bocean = -4000.\n",
      "rundata.probdata.Bshelf = -50.\n",
      "rundata.probdata.width = 1.\n",
      "rundata.probdata.start = -30.e3\n",
      "rundata.write()\n",
      "\n",
      "outdir,plotdir = nbtools.make_output_and_plots(verbose=False)\n",
      "anim = J.make_anim(plotdir, fname_base='frame*fig2', figsize=(8,6))\n",
      "anim"
     ],
     "language": "python",
     "metadata": {},
     "outputs": [],
     "prompt_number": null
    },
    {
     "cell_type": "markdown",
     "metadata": {},
     "source": [
      "### Example 3.\n",
      "\n",
      "In this example, there is a wide continental slope instead of a step discontinuity. Note that there is much less reflection of energy at the slope in this case, and less energy trapped on the shelf."
     ]
    },
    {
     "cell_type": "code",
     "collapsed": false,
     "input": [
      "rundata.probdata.Bocean = -4000.\n",
      "rundata.probdata.Bshelf = -100.\n",
      "rundata.probdata.width = 100.e3\n",
      "rundata.probdata.start = -130.e3\n",
      "rundata.write()\n",
      "\n",
      "outdir,plotdir = nbtools.make_output_and_plots(verbose=False)\n",
      "anim = J.make_anim(plotdir, fname_base='frame*fig2', figsize=(8,6))\n",
      "anim"
     ],
     "language": "python",
     "metadata": {},
     "outputs": []
    },
    {
     "cell_type": "markdown",
     "metadata": {},
     "source": [
      "### Try your own example...\n",
      "\n",
      "Experiment with adjusting the parameters below and execute the cell to produce a new animation.\n",
      "\n",
      "Note:\n",
      " - You must be running the notebook for this to work (not just viewing it via nbviewer)\n",
      " - The plotting routines expect parameters similar to those used above or the plots might not be scaled properly.\n",
      " - It may take a few minutes to run."
     ]
    },
    {
     "cell_type": "code",
     "collapsed": false,
     "input": [
      "rundata.probdata.Bocean = -2000.\n",
      "rundata.probdata.Bshelf = -1000.\n",
      "rundata.probdata.width = 10.e3\n",
      "rundata.probdata.start = -40.e3\n",
      "rundata.write()\n",
      "\n",
      "outdir,plotdir = nbtools.make_output_and_plots(label='new', verbose=True)\n",
      "anim = J.make_anim(plotdir, fname_base='frame*fig2', figsize=(8,6))\n",
      "anim"
     ],
     "language": "python",
     "metadata": {},
     "outputs": []
    }
   ],
   "metadata": {}
  }
 ]
}