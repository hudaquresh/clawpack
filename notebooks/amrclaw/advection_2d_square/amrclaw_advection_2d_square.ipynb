{
 "cells": [
  {
   "cell_type": "markdown",
   "metadata": {},
   "source": [
    "## Demo of running AMRClaw Fortran code and plotting results"
   ]
  },
  {
   "cell_type": "markdown",
   "metadata": {},
   "source": [
    "This [Jupyter notebook](http://www.jupyter.org) can be found in [collection of Clawpack apps](http://www.clawpack.org/apps.html) as the file [`$CLAW/apps/notebooks/amrclaw/advection_2d_square/amrclaw_advection_2d_square.ipynb`](https://github.com/clawpack/apps/tree/master/notebooks/amrclaw/advection_2d_square/amrclaw_advection_2d_square.ipynb).  \n",
    "To run this notebook, [install Clawpack](http://www.clawpack.org/installing.html), and clone the [apps repository](https://github.com/clawpack/apps).  \n",
    "A static view of this and other notebooks can be found in the [Clawpack Gallery of Jupyter notebooks](http://www.clawpack.org/gallery/notebooks.html)."
   ]
  },
  {
   "cell_type": "markdown",
   "metadata": {},
   "source": [
    "The is adapted from $CLAW/amrclaw/examples/advection_2d_square to illustrate the use of IPython notebooks.\n",
    "\n",
    "The setrun.py and setplot.py files are taken from that example but some parameters are modified in the notebook below.\n",
    "\n",
    "The 2-dimensional advection equation $q_t + uq_x + vq_y = 0$ is solved in the unit square with periodic boundary conditions.  The constant advection velocities $u$ and $v$ are specified in setrun.py but can be changed below."
   ]
  },
  {
   "cell_type": "markdown",
   "metadata": {},
   "source": [
    "Have plots appear inline in notebook:"
   ]
  },
  {
   "cell_type": "code",
   "execution_count": null,
   "metadata": {
    "collapsed": false
   },
   "outputs": [],
   "source": [
    "%pylab inline"
   ]
  },
  {
   "cell_type": "code",
   "execution_count": null,
   "metadata": {
    "collapsed": false
   },
   "outputs": [],
   "source": [
    "from __future__ import print_function"
   ]
  },
  {
   "cell_type": "markdown",
   "metadata": {},
   "source": [
    "Check that the CLAW environment variable is set.  (It must be set in the Unix shell before starting the notebook server)."
   ]
  },
  {
   "cell_type": "code",
   "execution_count": null,
   "metadata": {
    "collapsed": false
   },
   "outputs": [],
   "source": [
    "import os\n",
    "try:\n",
    "    CLAW = os.environ['CLAW'] \n",
    "    print(\"Using Clawpack from \", CLAW)\n",
    "except:\n",
    "    print(\"*** Environment variable CLAW must be set to run code\")"
   ]
  },
  {
   "cell_type": "markdown",
   "metadata": {},
   "source": [
    "### Module with functions used to execute system commands and capture output:"
   ]
  },
  {
   "cell_type": "code",
   "execution_count": null,
   "metadata": {
    "collapsed": false
   },
   "outputs": [],
   "source": [
    "from clawpack.clawutil import nbtools"
   ]
  },
  {
   "cell_type": "markdown",
   "metadata": {},
   "source": [
    "### Compile the code:"
   ]
  },
  {
   "cell_type": "code",
   "execution_count": null,
   "metadata": {
    "collapsed": false
   },
   "outputs": [],
   "source": [
    "nbtools.make_exe(new=True)  # new=True ==> force recompilation of all code"
   ]
  },
  {
   "cell_type": "markdown",
   "metadata": {},
   "source": [
    "### Make documentation files:"
   ]
  },
  {
   "cell_type": "code",
   "execution_count": null,
   "metadata": {
    "collapsed": false
   },
   "outputs": [],
   "source": [
    "nbtools.make_htmls()"
   ]
  },
  {
   "cell_type": "markdown",
   "metadata": {},
   "source": [
    "### Run the code and plot results using the setrun.py and setplot.py files in this directory:\n",
    "\n",
    "First create data files needed for the Fortran code, using parameters specified in setrun.py:"
   ]
  },
  {
   "cell_type": "code",
   "execution_count": null,
   "metadata": {
    "collapsed": false
   },
   "outputs": [],
   "source": [
    "nbtools.make_data(verbose=False)"
   ]
  },
  {
   "cell_type": "markdown",
   "metadata": {},
   "source": [
    "Now run the code and produce plots.  Specifying a label insures the resulting plot directory will persist after later runs are done below."
   ]
  },
  {
   "cell_type": "code",
   "execution_count": null,
   "metadata": {
    "collapsed": false
   },
   "outputs": [],
   "source": [
    "outdir,plotdir = nbtools.make_output_and_plots(label='1')"
   ]
  },
  {
   "cell_type": "markdown",
   "metadata": {},
   "source": [
    "### Display the animation inline:\n",
    "\n",
    "Clicking on the _PlotIndex link above, you can view an animation of the results.  \n",
    "\n",
    "After creating all png files in the _plots directory, these can also be combined in an animation that is displayed inline:"
   ]
  },
  {
   "cell_type": "code",
   "execution_count": null,
   "metadata": {
    "collapsed": false
   },
   "outputs": [],
   "source": [
    "import clawpack.visclaw.JSAnimation.JSAnimation_frametools as J\n",
    "anim = J.make_anim(plotdir, figno=0, figsize=(6,4))\n",
    "anim"
   ]
  },
  {
   "cell_type": "markdown",
   "metadata": {},
   "source": [
    "### Illustrate how to adjust some parameters and rerun the code: \n",
    "\n",
    "First read in the current rundata.  (See the <a href=\"README.html\">README.html</a> file for a link to `setrun.py`)."
   ]
  },
  {
   "cell_type": "code",
   "execution_count": null,
   "metadata": {
    "collapsed": false
   },
   "outputs": [],
   "source": [
    "import setrun\n",
    "rundata = setrun.setrun()"
   ]
  },
  {
   "cell_type": "markdown",
   "metadata": {},
   "source": [
    "Here we adjust the mesh to be $40 \\times 40$ and set two gauges at $(0.6, 0.4)$ and $(0.6,0.8)$."
   ]
  },
  {
   "cell_type": "code",
   "execution_count": null,
   "metadata": {
    "collapsed": false
   },
   "outputs": [],
   "source": [
    "rundata.clawdata.num_cells = [40,40]\n",
    "rundata.gaugedata.gauges = [[1, 0.6, 0.4, 0., 10.], [2, 0.6, 0.8, 0., 10.]]"
   ]
  },
  {
   "cell_type": "markdown",
   "metadata": {},
   "source": [
    "The advection velocities can also be changed (in setrun.py, $(u,v) = (0.5,1)$."
   ]
  },
  {
   "cell_type": "code",
   "execution_count": null,
   "metadata": {
    "collapsed": false
   },
   "outputs": [],
   "source": [
    "rundata.probdata.u = -1.0\n",
    "rundata.probdata.v = 1.0"
   ]
  },
  {
   "cell_type": "markdown",
   "metadata": {},
   "source": [
    "Change the limiter if you want to experiment with other methods.  A list of 1 limiter is required since this is a scalar problem with only 1 wave in the Riemann solution.\n",
    "\n",
    "Here we set the limiter to ['none'] to see the oscillations that arise if Lax-Wendroff is used with no limiter."
   ]
  },
  {
   "cell_type": "code",
   "execution_count": null,
   "metadata": {
    "collapsed": false
   },
   "outputs": [],
   "source": [
    "rundata.clawdata.limiter = ['none']"
   ]
  },
  {
   "cell_type": "markdown",
   "metadata": {},
   "source": [
    "### Write the data out (for the Fortran code to read in) and run the code:"
   ]
  },
  {
   "cell_type": "code",
   "execution_count": null,
   "metadata": {
    "collapsed": false
   },
   "outputs": [],
   "source": [
    "rundata.write()\n",
    "outdir, plotdir = nbtools.make_output_and_plots(label='2')"
   ]
  },
  {
   "cell_type": "markdown",
   "metadata": {},
   "source": [
    "## Changing plot parameters and plotting inline\n",
    "\n",
    "In addition to producing a _plots directory using the parameters in setplot.py, plot parameters can be changed and plots produced inline as the examples below illustrate..."
   ]
  },
  {
   "cell_type": "code",
   "execution_count": null,
   "metadata": {
    "collapsed": false
   },
   "outputs": [],
   "source": [
    "import setplot\n",
    "plotdata = setplot.setplot()\n",
    "plotdata.outdir = outdir"
   ]
  },
  {
   "cell_type": "markdown",
   "metadata": {},
   "source": [
    "### Plot one frame of the solution:"
   ]
  },
  {
   "cell_type": "code",
   "execution_count": null,
   "metadata": {
    "collapsed": false
   },
   "outputs": [],
   "source": [
    "plotdata.plotframe(2)"
   ]
  },
  {
   "cell_type": "markdown",
   "metadata": {},
   "source": [
    "### Adjust some plot parameters:"
   ]
  },
  {
   "cell_type": "code",
   "execution_count": null,
   "metadata": {
    "collapsed": false
   },
   "outputs": [],
   "source": [
    "plotdata.showitems()   # shows the currently defined figures, axes, items"
   ]
  },
  {
   "cell_type": "markdown",
   "metadata": {},
   "source": [
    "Change the color limits for the pcolor plot to show the overshoots and undershoots with Lax-Wendroff.  Also suppress showing the other plots..."
   ]
  },
  {
   "cell_type": "code",
   "execution_count": null,
   "metadata": {
    "collapsed": false
   },
   "outputs": [],
   "source": [
    "plotitem = plotdata.getitem('ITEM1','AXES1','pcolor')\n",
    "plotitem.pcolor_cmin = -0.2\n",
    "plotitem.pcolor_cmax = 1.2\n",
    "plotdata.getfigure('contour').show = False\n",
    "plotdata.getfigure('cells').show = False\n",
    "plotdata.plotframe(2)"
   ]
  },
  {
   "cell_type": "markdown",
   "metadata": {},
   "source": [
    "### Explore the gauge output:\n",
    "\n",
    "The overshoots and undershoots with Lax-Wendroff are even more visible in the gauge output..."
   ]
  },
  {
   "cell_type": "code",
   "execution_count": null,
   "metadata": {
    "collapsed": false
   },
   "outputs": [],
   "source": [
    "for gaugeno in [1,2]:\n",
    "    gauge = plotdata.getgauge(gaugeno)\n",
    "    q = gauge.q[0,:]\n",
    "    t = gauge.t\n",
    "    qmax = q.max()\n",
    "    tmax = t[q.argmax()]\n",
    "    print(\"Gauge %s at %s has a maximum value of q = %7.5f at t = %7.5f\" \\\n",
    "        % (gaugeno, gauge.location, qmax, tmax))\n",
    "    plot(t,q,label=\"Gauge %s\" % gaugeno)\n",
    "legend()\n",
    "xlim(0,3)\n",
    "ylim(-0.1,1.1)\n",
    "xlabel('time')\n",
    "ylabel('q at gauge')\n",
    "title(\"Gauge output\")"
   ]
  },
  {
   "cell_type": "code",
   "execution_count": null,
   "metadata": {
    "collapsed": false
   },
   "outputs": [],
   "source": []
  }
 ],
 "metadata": {
  "kernelspec": {
   "display_name": "Python 2",
   "language": "python",
   "name": "python2"
  },
  "language_info": {
   "codemirror_mode": {
    "name": "ipython",
    "version": 3
   },
   "file_extension": ".py",
   "mimetype": "text/x-python",
   "name": "python",
   "nbconvert_exporter": "python",
   "pygments_lexer": "ipython3",
   "version": "3.5.2"
  }
 },
 "nbformat": 4,
 "nbformat_minor": 1
}
