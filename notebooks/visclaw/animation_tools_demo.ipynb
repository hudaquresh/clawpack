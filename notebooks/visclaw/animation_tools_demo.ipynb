{
 "cells": [
  {
   "cell_type": "markdown",
   "metadata": {},
   "source": [
    "# Demonstrate animation_tools module"
   ]
  },
  {
   "cell_type": "markdown",
   "metadata": {},
   "source": [
    "This [Jupyter notebook](http://www.jupyter.org) can be found in [collection of Clawpack apps](http://www.clawpack.org/apps.html) as the file [`$CLAW/apps/notebooks/visclaw/animation_tools_demo.ipynb`](https://github.com/clawpack/apps/tree/master/notebooks/visclaw/animation_tools_demo.ipynb).  \n",
    "To run this notebook, [install Clawpack](http://www.clawpack.org/installing.html), and clone the [apps repository](https://github.com/clawpack/apps).\n",
    "A static view of this and other notebooks can be found in the [Clawpack Gallery of Jupyter notebooks](http://www.clawpack.org/gallery/notebooks.html)."
   ]
  },
  {
   "cell_type": "markdown",
   "metadata": {},
   "source": [
    "This notebook demonstrates the tools in the `clawpack.visclaw.animation_tools` module (new in Version 5.4.0), which facilitates creating a list of figures or images and viewing them as an animation.  \n",
    "\n",
    "Several approaches are supported:\n",
    "\n",
    " - Using the `ipywidgets.interact` allows generating an interactive widget for sweeping through the frames.  This may be easiest to work with when running a notebook interactively, including when using <http://mybinder.org>.\n",
    " \n",
    " - Using the `JSAnimation` package from https://github.com/jakevdp/JSAnimation creates animations with controls that allow viewing as a movie more easily. You can also create a stand-alone html file of an animation to post on the web.  Moreover movies created with JSAnimation and saved with the notebook will operate properly when viewed via `nbviewer` or when viewing a notebook on GitHub.  However, do not try to run such a movie on a binder instance, or the JavaScript will go into an infinite loop.\n",
    " \n",
    " - The `JSAnimation` version can also be embedded in another webpage or in Sphinx documentation, using the `animation_tools.make_html` and `animation_tools.make_rst` functions.\n",
    " \n",
    " - An `mp4` file can also be created using the `animation_tools.make_mp4` function.\n",
    " \n",
    "#### Converting frames in a Clawpack `_plots` directory to animations:\n",
    " \n",
    " The script [make_anim.py](make_anim.py) illustrates how to turn the png files in a Clawpack `_plots` directory into stand-alone `.html`, `.mp4`, or `.rst` files."
   ]
  },
  {
   "cell_type": "code",
   "execution_count": null,
   "metadata": {},
   "outputs": [],
   "source": [
    "%pylab inline"
   ]
  },
  {
   "cell_type": "code",
   "execution_count": null,
   "metadata": {
    "collapsed": false
   },
   "outputs": [],
   "source": [
    "from __future__ import print_function\n",
    "from ipywidgets import interact, interact_manual\n",
    "import ipywidgets\n",
    "import os\n",
    "import io\n",
    "import base64\n",
    "from IPython.display import display, FileLink, FileLinks, HTML"
   ]
  },
  {
   "cell_type": "code",
   "execution_count": null,
   "metadata": {
    "collapsed": false
   },
   "outputs": [],
   "source": [
    "from clawpack.visclaw import animation_tools"
   ]
  },
  {
   "cell_type": "markdown",
   "metadata": {},
   "source": [
    "## Generate a set of figures to use for demos\n",
    "\n",
    "You can make figures however you want.  As they are created, append to a list called `figs`:"
   ]
  },
  {
   "cell_type": "code",
   "execution_count": null,
   "metadata": {
    "collapsed": false
   },
   "outputs": [],
   "source": [
    "figs = []\n",
    "x = linspace(0,1,1000)\n",
    "\n",
    "for k in range(11):\n",
    "    fig = figure(figsize=(5,3))\n",
    "    plot(x, sin(2*pi*k*x), 'b')\n",
    "    ylim(-1.1,1.1)\n",
    "    title('$\\sin(2\\pi kx)$ for k = %s' % k)\n",
    "    figs.append(fig)\n",
    "    close(fig)"
   ]
  },
  {
   "cell_type": "markdown",
   "metadata": {},
   "source": [
    "## Animating a list of figures\n",
    "\n",
    "The tool `animation_tools.interact_animate_figs` can be used to create an interact that loops over all the frames contained in a list of figures."
   ]
  },
  {
   "cell_type": "code",
   "execution_count": null,
   "metadata": {},
   "outputs": [],
   "source": [
    "animation_tools.interact_animate_figs(figs)"
   ]
  },
  {
   "cell_type": "markdown",
   "metadata": {},
   "source": [
    "Passing in the argument `manual=True` will use the widget `interact_manual` instead of `interact`.  This refrains from updating the image as you move the slider bar.  Instead you move the slider as desired and then click on the `Run` button to re-display the image.  This is useful if there are many frames and you want to be able to jump to around without all the intermediate frames being displayed, which can slow down the response significantly."
   ]
  },
  {
   "cell_type": "code",
   "execution_count": null,
   "metadata": {},
   "outputs": [],
   "source": [
    "animation_tools.interact_animate_figs(figs, manual=True)"
   ]
  },
  {
   "cell_type": "markdown",
   "metadata": {},
   "source": [
    "The argument `TextInput=True` can be specified to produce a text input cell rather than a slider bar:"
   ]
  },
  {
   "cell_type": "code",
   "execution_count": null,
   "metadata": {},
   "outputs": [],
   "source": [
    "animation_tools.interact_animate_figs(figs, manual=True, TextInput=True)"
   ]
  },
  {
   "cell_type": "markdown",
   "metadata": {},
   "source": [
    "## Animating a list of images\n",
    "\n",
    "The tool `animation_tools.interact_animate_images` can be used to create an interact that loops over all the frames contained in a list of images rather than figures. The images can be generated from a list of figures, as illustrated in the next cell.  Or they can be read in from a directory of png files, for example, as illustrated later.\n",
    "\n",
    "This function also takes the arguments `manual` and `TextInput` as described above, with default values `False`."
   ]
  },
  {
   "cell_type": "code",
   "execution_count": null,
   "metadata": {},
   "outputs": [],
   "source": [
    "images = animation_tools.make_images(figs)\n",
    "animation_tools.interact_animate_images(images, figsize=(6,3))"
   ]
  },
  {
   "cell_type": "markdown",
   "metadata": {},
   "source": [
    "## JSAnimation\n",
    "\n",
    "A list of images can also be turned into a JSAnimation inline plot:"
   ]
  },
  {
   "cell_type": "code",
   "execution_count": null,
   "metadata": {},
   "outputs": [],
   "source": [
    "animation_tools.JSAnimate_images(images, figsize=(6,3))"
   ]
  },
  {
   "cell_type": "markdown",
   "metadata": {},
   "source": [
    "### Stand-alone html file\n",
    "\n",
    "Alternatively, a separate stand-alone html page can be created with the JSAnimation.  This can be posted on the web for others to view, for example."
   ]
  },
  {
   "cell_type": "code",
   "execution_count": null,
   "metadata": {
    "collapsed": false
   },
   "outputs": [],
   "source": [
    "anim = animation_tools.JSAnimate_images(images, figsize=(5,4));\n",
    "# display(anim)  # to display it in the notebook"
   ]
  },
  {
   "cell_type": "code",
   "execution_count": null,
   "metadata": {},
   "outputs": [],
   "source": [
    "file_name = 'SineFunctions.html'\n",
    "animation_tools.make_html(anim, file_name=file_name, title=\"Sine Functions\", \n",
    "                          raw_html=\"Illustration of html file created by <tt>make_html</tt>\")\n",
    "FileLink(file_name)"
   ]
  },
  {
   "cell_type": "markdown",
   "metadata": {},
   "source": [
    "### reStructured text file\n",
    "\n",
    "You can also produce a `.rst` file containing the animation, which can be incorporated into Sphinx documentation:"
   ]
  },
  {
   "cell_type": "code",
   "execution_count": null,
   "metadata": {},
   "outputs": [],
   "source": [
    "file_name = 'SineFunctions.rst'\n",
    "animation_tools.make_rst(anim, file_name=file_name)\n",
    "FileLink(file_name)"
   ]
  },
  {
   "cell_type": "markdown",
   "metadata": {},
   "source": [
    "### Create an mp4 file"
   ]
  },
  {
   "cell_type": "markdown",
   "metadata": {},
   "source": [
    "Note that [ffmpeg](https://ffmpeg.org) must be installed in order to create an `mp4` file.  \n",
    "\n",
    "Give it a try:"
   ]
  },
  {
   "cell_type": "code",
   "execution_count": null,
   "metadata": {},
   "outputs": [],
   "source": [
    "file_name = 'SineFunctions.mp4'\n",
    "animation_tools.make_mp4(anim, file_name=file_name)"
   ]
  },
  {
   "cell_type": "code",
   "execution_count": null,
   "metadata": {},
   "outputs": [],
   "source": [
    "if os.path.isfile(file_name):\n",
    "    video = io.open(file_name, 'r+b').read()\n",
    "    encoded = base64.b64encode(video)\n",
    "    data = '''<video alt=\"test\" controls>\n",
    "                    <source src=\"data:video/mp4;base64,{0}\" type=\"video/mp4\" />\n",
    "                 </video>'''.format(encoded.decode('ascii'))\n",
    "    print(\"If the mp4 file doesn't display here your browser (e.g. Chrome) might not support it\")\n",
    "else:\n",
    "    data = \"File not found: %s\" % file_name\n",
    "    \n",
    "HTML(data=data)"
   ]
  },
  {
   "cell_type": "markdown",
   "metadata": {},
   "source": [
    "## Create a directory of png files\n",
    "\n",
    "Sometimes it is useful to create a directory containing png files for each figure, or you might have such a directory generated by other means (e.g. from VisClaw).\n",
    "\n",
    "Here we create a directory named `_plots` to store png files for each frame:"
   ]
  },
  {
   "cell_type": "code",
   "execution_count": null,
   "metadata": {},
   "outputs": [],
   "source": [
    "plotdir = '_plots'\n",
    "animation_tools.make_plotdir(plotdir, clobber=True)"
   ]
  },
  {
   "cell_type": "markdown",
   "metadata": {},
   "source": [
    "You can create frames any way you wish and then use `animation_tools.save_frame` to save each one.  You can also explicitly call `savefig`, but then you should construct file names such that `glob.glob` can be used to return a list of filenames in the directory that are in the correct order for plotting as frames in an animation.  The `animation_tools.save_frame` creates names such as `frame00000.png` etc. as shown below.  The optional argument `fname_base` can be used to change `frame` to something else."
   ]
  },
  {
   "cell_type": "code",
   "execution_count": null,
   "metadata": {},
   "outputs": [],
   "source": [
    "x = linspace(0,1,1000)\n",
    "\n",
    "for k in range(5):\n",
    "    fig = figure(figsize=(6,3))\n",
    "    plot(x, cos(2*pi*k*x), 'b')\n",
    "    ylim(-1.1,1.1)\n",
    "    title('$\\cos(2\\pi kx)$ for k = %s' % k)\n",
    "    animation_tools.save_frame(k, verbose=True)\n",
    "    close(fig)"
   ]
  },
  {
   "cell_type": "code",
   "execution_count": null,
   "metadata": {},
   "outputs": [],
   "source": [
    "FileLinks(plotdir)"
   ]
  },
  {
   "cell_type": "markdown",
   "metadata": {},
   "source": [
    "Given such a directory of png files, we can read them in using `animation_tools.read_images` to produce a list of images:"
   ]
  },
  {
   "cell_type": "code",
   "execution_count": null,
   "metadata": {},
   "outputs": [],
   "source": [
    "cosine_images = animation_tools.read_images(plotdir='_plots', fname_pattern='frame*.png')\n",
    "print(\"Found %i images\" % len(cosine_images))"
   ]
  },
  {
   "cell_type": "markdown",
   "metadata": {},
   "source": [
    "The resulting list of images `new_images` can now be animated using any of the tools illustrated earlier, e.g."
   ]
  },
  {
   "cell_type": "code",
   "execution_count": null,
   "metadata": {},
   "outputs": [],
   "source": [
    "animation_tools.interact_animate_images(cosine_images)"
   ]
  },
  {
   "cell_type": "markdown",
   "metadata": {},
   "source": [
    "## Saving a list of figures or images\n",
    "\n",
    "If you already have a list of figures or images and wish to create a directory containing them, the utilities `animation_tools.save_figs` or `animation_tools.save_images` can be used.  For example:"
   ]
  },
  {
   "cell_type": "code",
   "execution_count": null,
   "metadata": {},
   "outputs": [],
   "source": [
    "animation_tools.save_images(cosine_images, plotdir='cosine_images', fname_base='wavenumber', \n",
    "                            format='png', verbose=True, kwargs={'dpi':150})\n",
    "FileLinks('cosine_images')"
   ]
  },
  {
   "cell_type": "code",
   "execution_count": null,
   "metadata": {},
   "outputs": [],
   "source": [
    "reload_images = animation_tools.read_images(plotdir='cosine_images', fname_pattern='wavenumber*.png')\n",
    "animation_tools.interact_animate_images(reload_images)"
   ]
  },
  {
   "cell_type": "code",
   "execution_count": null,
   "metadata": {
    "collapsed": false
   },
   "outputs": [],
   "source": []
  }
 ],
 "metadata": {
  "kernelspec": {
   "display_name": "Python 2",
   "language": "python",
   "name": "python2"
  },
  "language_info": {
   "codemirror_mode": {
    "name": "ipython",
    "version": 3
   },
   "file_extension": ".py",
   "mimetype": "text/x-python",
   "name": "python",
   "nbconvert_exporter": "python",
   "pygments_lexer": "ipython3",
   "version": "3.5.2"
  }
 },
 "nbformat": 4,
 "nbformat_minor": 1
}
