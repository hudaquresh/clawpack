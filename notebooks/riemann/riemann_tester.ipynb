{
 "cells": [
  {
   "cell_type": "markdown",
   "metadata": {},
   "source": [
    "# Riemann solver tester\n"
   ]
  },
  {
   "cell_type": "code",
   "execution_count": null,
   "metadata": {
    "collapsed": false
   },
   "outputs": [],
   "source": [
    "%matplotlib inline\n",
    "import matplotlib.pyplot as plt\n",
    "import numpy as np\n",
    "from IPython.display import FileLink\n",
    "from clawpack import riemann\n",
    "from clawpack.visclaw import animation_tools"
   ]
  },
  {
   "cell_type": "markdown",
   "metadata": {},
   "source": [
    "The next cell imports a module containing a function that takes a Riemann problem (left state, right state, and approximate solver), and computes the Riemann solution, as well as functions to plot the solution in various forms."
   ]
  },
  {
   "cell_type": "code",
   "execution_count": null,
   "metadata": {
    "collapsed": false
   },
   "outputs": [],
   "source": [
    "from clawpack.riemann import riemann_tools"
   ]
  },
  {
   "cell_type": "markdown",
   "metadata": {},
   "source": [
    "# Acoustics: exact solution\n",
    "We can use this to examine the exact solution of an acoustics Riemann problem.\n",
    "\n",
    "This is a linear hyperbolic system of two equations for $q = [p, u]^T$, where $p$ is the pressure perturbation and $u$ is the velocity.  The system is $q_t + Aq_x = 0$, where the coefficient matrix is\n",
    "\n",
    "$$\n",
    "A = \\left[\\begin{array}{cc}0&K\\\\1/\\rho&0\\end{array}\\right], \n",
    "$$\n",
    "\n",
    "where $\\rho$ is the density and $K$ the bulk modulus.  If we define the sound speed $c = \\sqrt{K/\\rho}$ and impedance $Z=\\sqrt{K\\rho}$, then the eigenvalues of the matrix are $s^1 = -c$ and $s^2 = +c$ and the corresponding eigenvectors are\n",
    "$$\n",
    "r^1 = \\left[\\begin{array}{c}-Z\\\\1\\end{array}\\right], \\qquad r^2 = \\left[\\begin{array}{c}Z\\\\1\\end{array}\\right].\n",
    "$$\n",
    "\n",
    "For arbitrary states $q_\\ell$ and $q_r$, the Riemann solution consists of two waves propagating with velocities $\\pm c$ with an intermediate state $q_m$ that is connected to $q_\\ell$ by a multiple of $r^1$ and to $q_r$ by a multiple of $r^2$.\n",
    "\n",
    "This Riemann solver can be solved by the PyClaw solver `riemann.acoustics_1D_py.acoustics_1D`:"
   ]
  },
  {
   "cell_type": "code",
   "execution_count": null,
   "metadata": {
    "collapsed": false
   },
   "outputs": [],
   "source": [
    "solver = riemann.acoustics_1D_py.acoustics_1D\n",
    "\n",
    "q_l = np.array((1,4))\n",
    "q_r = np.array((3,7))\n",
    "\n",
    "problem_data = {}\n",
    "problem_data['zz'] = 2.0  # impedance \n",
    "problem_data['cc'] = 1.0  # sound speed\n",
    "\n",
    "states, s, riemann_eval = riemann_tools.riemann_solution(solver,q_l,q_r,problem_data=problem_data)\n",
    "\n",
    "print(\"The states are:\")\n",
    "print states\n",
    "print(\"The wave speeds are:\")\n",
    "print s\n",
    "\n",
    "riemann_tools.plot_phase(states)"
   ]
  },
  {
   "cell_type": "markdown",
   "metadata": {},
   "source": [
    "Plot the solution at one particular time:"
   ]
  },
  {
   "cell_type": "code",
   "execution_count": null,
   "metadata": {
    "collapsed": false
   },
   "outputs": [],
   "source": [
    "fig = riemann_tools.plot_riemann(states,s,riemann_eval,0.5)"
   ]
  },
  {
   "cell_type": "markdown",
   "metadata": {},
   "source": [
    "Plot over a range of times with a slider to control t:"
   ]
  },
  {
   "cell_type": "code",
   "execution_count": null,
   "metadata": {
    "collapsed": false
   },
   "outputs": [],
   "source": [
    "figs = []\n",
    "for t in np.linspace(0,1.,11):\n",
    "    fig = riemann_tools.plot_riemann(states,s,riemann_eval,t)\n",
    "    figs.append(fig)\n",
    "    plt.close(fig)\n",
    "\n",
    "animation_tools.interact_animate_figs(figs)"
   ]
  },
  {
   "cell_type": "markdown",
   "metadata": {},
   "source": [
    "Make JSAnimation movie:"
   ]
  },
  {
   "cell_type": "code",
   "execution_count": null,
   "metadata": {
    "collapsed": false
   },
   "outputs": [],
   "source": [
    "images = animation_tools.make_images(figs)\n",
    "animation_tools.JSAnimate_images(images, figsize=(8,4))"
   ]
  },
  {
   "cell_type": "markdown",
   "metadata": {},
   "source": [
    "# Euler equations: exact solution\n",
    "\n",
    "We can compute the exact solution to the Riemann problem for the Euler equations."
   ]
  },
  {
   "cell_type": "code",
   "execution_count": null,
   "metadata": {
    "collapsed": false
   },
   "outputs": [],
   "source": [
    "import Euler_exact_Riemann_solver\n",
    "FileLink('Euler_exact_Riemann_solver.py')  # Link to examine the exact Riemann solver"
   ]
  },
  {
   "cell_type": "code",
   "execution_count": null,
   "metadata": {
    "collapsed": false
   },
   "outputs": [],
   "source": [
    "gamma = 1.4\n",
    "\n",
    "q_l = np.array((3.,-0.5,2.))\n",
    "q_r = np.array((1.,0.,1.))\n",
    "\n",
    "ex_states, ex_speeds, reval = Euler_exact_Riemann_solver.exact_riemann_solution(q_l ,q_r, gamma)\n",
    "\n",
    "\n",
    "figs = []\n",
    "for t in np.linspace(0,1.,11):\n",
    "    fig = riemann_tools.plot_riemann(ex_states,ex_speeds,reval,t)\n",
    "    figs.append(fig)\n",
    "    plt.close(fig)\n",
    "    \n",
    "animation_tools.interact_animate_figs(figs)"
   ]
  },
  {
   "cell_type": "code",
   "execution_count": null,
   "metadata": {
    "collapsed": false
   },
   "outputs": [],
   "source": [
    "images = animation_tools.make_images(figs)\n",
    "animation_tools.JSAnimate_images(images, figsize=(10,4))"
   ]
  },
  {
   "cell_type": "markdown",
   "metadata": {},
   "source": [
    "# Euler: approximate solutions\n",
    "We can also easily compare the approximate solutions given by, say, a Roe solver and an HLLE solver for the Euler equations.\n",
    "\n",
    "## Roe solver:"
   ]
  },
  {
   "cell_type": "code",
   "execution_count": null,
   "metadata": {
    "collapsed": false
   },
   "outputs": [],
   "source": [
    "solver = riemann.euler_1D_py.euler_roe_1D\n",
    "\n",
    "problem_data = {}\n",
    "problem_data['gamma'] = gamma\n",
    "problem_data['gamma1'] = gamma - 1.0\n",
    "problem_data['efix'] = False\n",
    "\n",
    "print \"Roe solver solution to Euler equations:\"\n",
    "states, s, roe_eval = riemann_tools.riemann_solution(solver,q_l,q_r,problem_data=problem_data)\n",
    "fig, ax = plt.subplots(1,2,figsize=(10,4))\n",
    "riemann_tools.plot_phase(states,0,1,ax[0])\n",
    "riemann_tools.plot_phase(states,0,2,ax[1])\n",
    "riemann_tools.plot_phase_3d(states)"
   ]
  },
  {
   "cell_type": "code",
   "execution_count": null,
   "metadata": {
    "collapsed": false
   },
   "outputs": [],
   "source": [
    "figs = []\n",
    "for t in np.linspace(0,1.,11):\n",
    "    fig = riemann_tools.plot_riemann(states,s,roe_eval,t)\n",
    "    figs.append(fig)\n",
    "    plt.close(fig)\n",
    "\n",
    "animation_tools.interact_animate_figs(figs)"
   ]
  },
  {
   "cell_type": "markdown",
   "metadata": {},
   "source": [
    "## HLLE Solver:\n",
    "\n",
    "The HLLE solver uses only two waves with a constant state between that is uniquely defined by conservation for any choice of the two wave speeds.  The left-going wave speed is chosen to be the minimum of the Roe speed for the 1-wave and the characterstic speed $\\lambda^1$ in the left state $q_\\ell$.  The right-going wave speed is chosen to be the maximum of the Roe speed for the 3-wave and the characterstic speed $\\lambda^3$ in the right state $q_r$."
   ]
  },
  {
   "cell_type": "code",
   "execution_count": null,
   "metadata": {
    "collapsed": false
   },
   "outputs": [],
   "source": [
    "solver = riemann.euler_1D_py.euler_hll_1D\n",
    "print \"HLL solver solution to Euler equations:\"\n",
    "states_hll, s_hll, hll_eval = riemann_tools.riemann_solution(solver,q_l,q_r,problem_data=problem_data)\n",
    "fig, ax = plt.subplots(1,2,figsize=(10,4))\n",
    "riemann_tools.plot_phase(states_hll,0,1,ax[0])\n",
    "riemann_tools.plot_phase(states_hll,0,2,ax[1])\n",
    "riemann_tools.plot_phase_3d(states_hll)"
   ]
  },
  {
   "cell_type": "code",
   "execution_count": null,
   "metadata": {
    "collapsed": false
   },
   "outputs": [],
   "source": [
    "figs = []\n",
    "for t in np.linspace(0,1.,11):\n",
    "    fig = riemann_tools.plot_riemann(states_hll,s_hll,hll_eval,t)\n",
    "    figs.append(fig)\n",
    "    plt.close(fig)\n",
    "\n",
    "animation_tools.interact_animate_figs(figs)"
   ]
  },
  {
   "cell_type": "markdown",
   "metadata": {},
   "source": [
    "## Compare with the exact solution\n",
    "\n",
    "In the plots below, red is the true solution, blue is the HLLE solution."
   ]
  },
  {
   "cell_type": "code",
   "execution_count": null,
   "metadata": {
    "collapsed": false
   },
   "outputs": [],
   "source": [
    "t = 0.5\n",
    "fig = riemann_tools.plot_riemann(states_hll,s_hll,hll_eval,t, color='b')\n",
    "fig = riemann_tools.plot_riemann(ex_states,ex_speeds,reval,t, color='r', fig=fig)\n"
   ]
  },
  {
   "cell_type": "code",
   "execution_count": null,
   "metadata": {
    "collapsed": false
   },
   "outputs": [],
   "source": [
    "figs = []\n",
    "for t in np.linspace(0,1.,11):\n",
    "    fig = riemann_tools.plot_riemann(states_hll,s_hll,hll_eval,t, color='b')\n",
    "    fig = riemann_tools.plot_riemann(ex_states,ex_speeds,reval,t, color='r', fig=fig)\n",
    "    figs.append(fig)\n",
    "    plt.close(fig)\n",
    "\n",
    "animation_tools.interact_animate_figs(figs)"
   ]
  }
 ],
 "metadata": {
  "kernelspec": {
   "display_name": "Python 2",
   "language": "python",
   "name": "python2"
  },
  "language_info": {
   "codemirror_mode": {
    "name": "ipython",
    "version": 2
   },
   "file_extension": ".py",
   "mimetype": "text/x-python",
   "name": "python",
   "nbconvert_exporter": "python",
   "pygments_lexer": "ipython2",
   "version": "2.7.12"
  }
 },
 "nbformat": 4,
 "nbformat_minor": 0
}
