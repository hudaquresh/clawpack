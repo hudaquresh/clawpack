{
 "metadata": {
  "name": "",
  "signature": "sha256:ce5d0fa129e7c0c8cf76211308e40e05987592f70961cb2c40ba952bc9580843"
 },
 "nbformat": 3,
 "nbformat_minor": 0,
 "worksheets": [
  {
   "cells": [
    {
     "cell_type": "code",
     "collapsed": false,
     "input": [
      "import numpy as np\n",
      "%matplotlib inline"
     ],
     "language": "python",
     "metadata": {},
     "outputs": []
    },
    {
     "cell_type": "heading",
     "level": 1,
     "metadata": {},
     "source": [
      "Shocktube: simple shock with specified Mach number"
     ]
    },
    {
     "cell_type": "markdown",
     "metadata": {},
     "source": [
      "Here we set up a shock tube with specified right state \n",
      "\n",
      "$$[\\rho_r, u_r=0, p_r]$$\n",
      "\n",
      "and left velocity $u_l=0$, such that the solution consists of a right-going shock wave moving at a prescribed Mach number $M$ relative to the right ambient state:\n",
      "\n",
      "$$s = M c_r.$$\n",
      "\n",
      "What we know in advance about the Riemann solution is depicted below."
     ]
    },
    {
     "cell_type": "markdown",
     "metadata": {},
     "source": [
      "![](euler_riemann.png)"
     ]
    },
    {
     "cell_type": "markdown",
     "metadata": {},
     "source": [
      "Let\n",
      "$$\\mu = \\frac{2(M^2-1)}{M(\\gamma+1)}.$$\n",
      "\n",
      "Using the Rankine-Hugoniot conditions, we find that the state just to the right of the contact is given by the following:\n",
      "\n",
      "\\begin{align}\n",
      "\\rho_r^*& = \\rho_r \\frac{M}{M-\\mu} \\\\\n",
      "u & = \\mu c_r \\\\\n",
      "p & = p_r \\frac{(2M^2 -1)\\gamma+1}{\\gamma+1}.\n",
      "\\end{align}"
     ]
    },
    {
     "cell_type": "markdown",
     "metadata": {},
     "source": [
      "Next, we know that the left state and the $[\\rho_l^*, u, p]$ state must be connected by a left-going rarefaction.  The relevant Riemann invariants imply\n",
      "\n",
      "$$\\rho_l = \\frac{4\\gamma p_l}{(\\gamma-1)^2 u^2} \\left(1- \\left(\\frac{p}{p_l}\\right)^{\\frac{\\gamma-1}{2\\gamma}}\\right)^2$$\n",
      "\n",
      "and\n",
      "\n",
      "$$\\rho_l^* = \\left(\\frac{p}{p_l}\\right)^{1/\\gamma} \\rho_l.$$\n",
      "\n",
      "So we can prescribe any value we like for $p_l$ and compute the remaining values $\\rho_l,\\rho_l^*$ from the equations above.  The only catch is that the resulting rarefaction should satisfy the entropy condition, which is true if $p_l>p$."
     ]
    },
    {
     "cell_type": "code",
     "collapsed": false,
     "input": [
      "gamma = 1.4\n",
      "M = 1.5\n",
      "\n",
      "# Right state\n",
      "rho_r = 1.0\n",
      "u_r   = 0.0  # This must be zero.\n",
      "p_r   = 1.0\n",
      "\n",
      "# Left state\n",
      "p_l   = 5.0\n",
      "u_l   = 0.0    # This must be zero."
     ],
     "language": "python",
     "metadata": {},
     "outputs": []
    },
    {
     "cell_type": "code",
     "collapsed": false,
     "input": [
      "c_r = np.sqrt(gamma*p_r/rho_r)  # Right state sound speed\n",
      "s = M * c_r                     # Shock speed\n",
      "mu = 2*(M**2-1)/(gamma+1)/M\n",
      "\n",
      "# Find state to right of discontinuity via Rankine-Hugoniot conditions\n",
      "p   = p_r * ((2*M**2-1)*gamma+1)/(gamma+1)\n",
      "u   = mu*c_r\n",
      "rho_rs = rho_r*M/(M-mu)\n",
      "\n",
      "# Check that the 1-wave is a rarefaction\n",
      "if p_l<p:\n",
      "    print \"Warning: the states provided do not lead to the expected solution structure.\""
     ],
     "language": "python",
     "metadata": {},
     "outputs": []
    },
    {
     "cell_type": "code",
     "collapsed": false,
     "input": [
      "# Find remaining densities\n",
      "rho_l = 4*gamma*p_l/((gamma-1)**2*u**2) * (1-(p/p_l)**((gamma-1)/(2*gamma)))**2\n",
      "rho_ls= (p/p_l)**(1/gamma) * rho_l"
     ],
     "language": "python",
     "metadata": {},
     "outputs": []
    },
    {
     "cell_type": "code",
     "collapsed": false,
     "input": [
      "from clawpack import pyclaw\n",
      "from clawpack import riemann\n",
      "from clawpack.riemann.euler_with_efix_1D_constants import density, momentum, energy, num_eqn"
     ],
     "language": "python",
     "metadata": {},
     "outputs": []
    },
    {
     "cell_type": "code",
     "collapsed": false,
     "input": [
      "# Specify equations and boundary conditions\n",
      "solver = pyclaw.ClawSolver1D(riemann.euler_with_efix_1D)\n",
      "solver.bc_lower[0] = pyclaw.BC.extrap\n",
      "solver.bc_upper[0] = pyclaw.BC.extrap"
     ],
     "language": "python",
     "metadata": {},
     "outputs": []
    },
    {
     "cell_type": "code",
     "collapsed": false,
     "input": [
      "# Grid\n",
      "x = pyclaw.Dimension('x',-1.,1.,1000)\n",
      "domain = pyclaw.Domain([x])\n",
      "state = pyclaw.State(domain,num_eqn)\n",
      "state.problem_data['gamma'] = gamma\n",
      "xc = state.grid.p_centers[0]"
     ],
     "language": "python",
     "metadata": {},
     "outputs": []
    },
    {
     "cell_type": "code",
     "collapsed": false,
     "input": [
      "# Initial values\n",
      "state.q[density,:] = rho_l*(xc<0) + rho_r*(xc>=0)\n",
      "state.q[momentum,:] = rho_l*u_l*(xc<0) + rho_r*u_r*(xc>=0)\n",
      "E_r = 0.5*rho_r * u_r**2 + p_r/(gamma-1)\n",
      "E_l = 0.5*rho_l * u_l**2 + p_l/(gamma-1)\n",
      "state.q[energy, :] = E_l*(xc<0) + E_r*(xc>=0)"
     ],
     "language": "python",
     "metadata": {},
     "outputs": []
    },
    {
     "cell_type": "code",
     "collapsed": false,
     "input": [
      "claw = pyclaw.Controller()\n",
      "claw.tfinal = 1.\n",
      "claw.solution = pyclaw.Solution(state,domain)\n",
      "claw.solver = solver\n",
      "claw.num_output_times = 10\n",
      "claw.keep_copy = True"
     ],
     "language": "python",
     "metadata": {},
     "outputs": []
    },
    {
     "cell_type": "code",
     "collapsed": false,
     "input": [
      "claw.run()"
     ],
     "language": "python",
     "metadata": {},
     "outputs": []
    },
    {
     "cell_type": "code",
     "collapsed": false,
     "input": [
      "from matplotlib import animation\n",
      "from clawpack.visclaw.JSAnimation import IPython_display\n",
      "import matplotlib.pyplot as plt"
     ],
     "language": "python",
     "metadata": {},
     "outputs": []
    },
    {
     "cell_type": "code",
     "collapsed": false,
     "input": [
      "# Animated plot of the solution density\n",
      "fig = plt.figure(figsize=[8,4])\n",
      "ymax = max(rho_l, rho_ls, rho_rs, rho_r)\n",
      "ax = plt.axes(xlim=(xc[0], xc[-1]), ylim=(0, ymax+0.5))\n",
      "line, = ax.plot([], [], lw=1)\n",
      "\n",
      "def fplot(i):\n",
      "    frame = claw.frames[i]\n",
      "    q = frame.q[0,:]\n",
      "    line.set_data(xc, q)\n",
      "    ax.set_title('Density at t= '+ str(frame.t))\n",
      "    return line,\n",
      "\n",
      "animation.FuncAnimation(fig, fplot, frames=len(claw.frames))"
     ],
     "language": "python",
     "metadata": {},
     "outputs": []
    }
   ],
   "metadata": {}
  }
 ]
}