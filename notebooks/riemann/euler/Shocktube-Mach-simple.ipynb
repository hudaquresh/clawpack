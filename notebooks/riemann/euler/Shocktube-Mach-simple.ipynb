{
 "metadata": {
  "name": "",
  "signature": "sha256:a00973ab09b790fea2325534b7345d37de647e26d111fa749f65f2cb6d946195"
 },
 "nbformat": 3,
 "nbformat_minor": 0,
 "worksheets": [
  {
   "cells": [
    {
     "cell_type": "code",
     "collapsed": false,
     "input": [
      "import numpy as np\n",
      "%matplotlib inline"
     ],
     "language": "python",
     "metadata": {},
     "outputs": []
    },
    {
     "cell_type": "heading",
     "level": 1,
     "metadata": {},
     "source": [
      "Shocktube: simple shock with specified Mach number"
     ]
    },
    {
     "cell_type": "markdown",
     "metadata": {},
     "source": [
      "Here we set up a shock tube with specified right state $$[\\rho_r, u_r=0, p_r]$$ such that the solution consists of a single right-going shock wave moving at a given Mach number relative to the right ambient state:\n",
      "\n",
      "$$s = M c_r.$$"
     ]
    },
    {
     "cell_type": "markdown",
     "metadata": {},
     "source": [
      "Let\n",
      "$$\\mu = \\frac{2(M^2-1)}{M(\\gamma+1)}.$$\n",
      "\n",
      "Using the Rankine-Hugoniot conditions, we find that the left state is given by the following:\n",
      "\n",
      "\\begin{align}\n",
      "\\rho_l & = \\rho_r \\frac{M}{M-\\mu} \\\\\n",
      "u_l & = \\mu c_r \\\\\n",
      "p_l & = p_r \\frac{(2M^2 -1)\\gamma+1}{\\gamma+1}.\n",
      "\\end{align}"
     ]
    },
    {
     "cell_type": "code",
     "collapsed": false,
     "input": [
      "gamma = 1.4\n",
      "M = 2.1\n",
      "rho_r = 1.0\n",
      "u_r   = 0.0  # This must be zero for the rest of the code to be correct\n",
      "p_r   = 1.0\n",
      "\n",
      "c_r = np.sqrt(gamma*p_r/rho_r)\n",
      "s = M * c_r\n",
      "\n",
      "beta = (gamma+1)/(gamma-1)\n",
      "alpha = gamma/(gamma-1) - 0.5\n",
      "mu = 2*(M**2-1)/(gamma+1)/M"
     ],
     "language": "python",
     "metadata": {},
     "outputs": []
    },
    {
     "cell_type": "code",
     "collapsed": false,
     "input": [
      "p_l   = p_r * ((2*M**2-1)*gamma+1)/(gamma+1)\n",
      "u_l   = mu*c_r\n",
      "rho_l = rho_r*M/(M-mu)"
     ],
     "language": "python",
     "metadata": {},
     "outputs": []
    },
    {
     "cell_type": "code",
     "collapsed": false,
     "input": [
      "E_r = 0.5*rho_r * u_r**2 + p_r/(gamma-1)\n",
      "E_l = 0.5*rho_l * u_l**2 + p_l/(gamma-1)"
     ],
     "language": "python",
     "metadata": {},
     "outputs": []
    },
    {
     "cell_type": "code",
     "collapsed": false,
     "input": [
      "from clawpack import pyclaw\n",
      "from clawpack import riemann\n",
      "from clawpack.riemann.euler_with_efix_1D_constants import density, momentum, energy, num_eqn"
     ],
     "language": "python",
     "metadata": {},
     "outputs": []
    },
    {
     "cell_type": "code",
     "collapsed": false,
     "input": [
      "rs = riemann.euler_with_efix_1D\n",
      "solver = pyclaw.ClawSolver1D(rs)"
     ],
     "language": "python",
     "metadata": {},
     "outputs": []
    },
    {
     "cell_type": "code",
     "collapsed": false,
     "input": [
      "solver.bc_lower[0] = pyclaw.BC.extrap\n",
      "solver.bc_upper[0] = pyclaw.BC.extrap"
     ],
     "language": "python",
     "metadata": {},
     "outputs": []
    },
    {
     "cell_type": "code",
     "collapsed": false,
     "input": [
      "x = pyclaw.Dimension('x',-1.,1.,500)\n",
      "domain = pyclaw.Domain([x])\n",
      "state = pyclaw.State(domain,num_eqn)\n",
      "state.problem_data['gamma'] = gamma\n",
      "xc = state.grid.p_centers[0]"
     ],
     "language": "python",
     "metadata": {},
     "outputs": []
    },
    {
     "cell_type": "code",
     "collapsed": false,
     "input": [
      "state.q[density,:] = rho_l*(xc<0) + rho_r*(xc>=0)\n",
      "state.q[momentum,:] = rho_l*u_l*(xc<0) + rho_r*u_r*(xc>=0)\n",
      "state.q[energy, :] = E_l*(xc<0) + E_r*(xc>=0)"
     ],
     "language": "python",
     "metadata": {},
     "outputs": []
    },
    {
     "cell_type": "code",
     "collapsed": false,
     "input": [
      "claw = pyclaw.Controller()\n",
      "claw.tfinal = 1.\n",
      "claw.solution = pyclaw.Solution(state,domain)\n",
      "claw.solver = solver\n",
      "claw.num_output_times = 10\n",
      "claw.keep_copy = True"
     ],
     "language": "python",
     "metadata": {},
     "outputs": []
    },
    {
     "cell_type": "code",
     "collapsed": false,
     "input": [
      "claw.run()"
     ],
     "language": "python",
     "metadata": {},
     "outputs": []
    },
    {
     "cell_type": "code",
     "collapsed": false,
     "input": [
      "from matplotlib import animation\n",
      "from clawpack.visclaw.JSAnimation import IPython_display\n",
      "import matplotlib.pyplot as plt"
     ],
     "language": "python",
     "metadata": {},
     "outputs": []
    },
    {
     "cell_type": "code",
     "collapsed": false,
     "input": [
      "fig = plt.figure(figsize=[8,4])\n",
      "ax = plt.axes(xlim=(xc[0], xc[-1]), ylim=(0, rho_l+0.5))\n",
      "line, = ax.plot([], [], lw=1)\n",
      "\n",
      "def fplot(i):\n",
      "    frame = claw.frames[i]\n",
      "    q = frame.q[0,:]\n",
      "    line.set_data(xc, q)\n",
      "    return line,\n",
      "\n",
      "animation.FuncAnimation(fig, fplot, frames=len(claw.frames))"
     ],
     "language": "python",
     "metadata": {},
     "outputs": []
    }
   ],
   "metadata": {}
  }
 ]
}