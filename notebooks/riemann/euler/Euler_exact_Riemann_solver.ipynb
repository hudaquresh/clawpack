{
 "metadata": {
  "name": "",
  "signature": "sha256:0164824bd6ae18c80c5fe89d60e704af0cfbce66d0001bb3ad3fea50b629599d"
 },
 "nbformat": 3,
 "nbformat_minor": 0,
 "worksheets": [
  {
   "cells": [
    {
     "cell_type": "heading",
     "level": 1,
     "metadata": {},
     "source": [
      "The Riemann problem for the Euler equations"
     ]
    },
    {
     "cell_type": "markdown",
     "metadata": {},
     "source": [
      "This is an exact Riemann solver for the one-dimensional Euler equations of compressible flow.  It is based on Sections 14.11-14.12 of [Randall LeVeque's finite volume text](http://depts.washington.edu/clawpack/book.html)."
     ]
    },
    {
     "cell_type": "markdown",
     "metadata": {},
     "source": [
      "<a rel=\"license\" href=\"http://creativecommons.org/licenses/by/4.0/\"><img alt=\"Creative Commons License\" style=\"border-width:0\" src=\"https://i.creativecommons.org/l/by/4.0/80x15.png\" /></a><br /><span xmlns:dct=\"http://purl.org/dc/terms/\" property=\"dct:title\">This example</span> by <a href=\"http://davidketcheson.info\">David Ketcheson</a> is licensed under a <a rel=\"license\" href=\"http://creativecommons.org/licenses/by/4.0/\">Creative Commons Attribution 4.0 International License</a>.  All code examples are also licensed under the [MIT license](http://opensource.org/licenses/MIT)."
     ]
    },
    {
     "cell_type": "markdown",
     "metadata": {},
     "source": [
      "## Contents\n",
      "\n",
      " - <a href=\"#solver\">Riemann solver</a>\n",
      " - <a href=\"#examples\">Example Riemann problems</a>\n",
      "     - <a href=\"#sod\">Sod shock tube</a>\n",
      "     - <a href=\"#expansion\">Expansion</a>\n",
      "     - <a href=\"#collision\">Collision</a>\n",
      " - <a href=\"#interact\">Interactive widget</a>"
     ]
    },
    {
     "cell_type": "code",
     "collapsed": false,
     "input": [
      "%matplotlib inline\n",
      "import numpy as np\n",
      "import matplotlib.pyplot as plt\n",
      "from scipy.optimize import fsolve"
     ],
     "language": "python",
     "metadata": {},
     "outputs": []
    },
    {
     "cell_type": "heading",
     "level": 1,
     "metadata": {},
     "source": [
      "<div id=\"solver\"></div>\n",
      "\n",
      "Riemann solver"
     ]
    },
    {
     "cell_type": "markdown",
     "metadata": {},
     "source": [
      "The cell below contains the code for the Riemann solver.  In order to be similar to approximate Riemann solvers used in numerical codes, it takes the conserved quantities *(density, momentum, energy)* as inputs.  For convenience, it returns the solution in primitive variables *(density, velocity, pressure)*."
     ]
    },
    {
     "cell_type": "code",
     "collapsed": false,
     "input": [
      "def primitive_to_conservative(rho,u,p):\n",
      "    mom = rho*u\n",
      "    E   = p/(gamma-1.) + 0.5*rho*u**2\n",
      "    return rho, mom, E\n",
      "\n",
      "def conservative_to_primitive(rho,mom,E):\n",
      "    u = mom/rho\n",
      "    p = (gamma-1.)*(E - 0.5*rho*u**2)\n",
      "    return rho, u, p\n",
      "\n",
      "def exact_riemann_solution(q_l,q_r,gamma=1.4):\n",
      "    \"\"\"Return the exact solution to the Riemann problem with initial states q_l, q_r.\n",
      "       The solution is given in terms of a list of states, a list of speeds (each of which\n",
      "       may be a pair in case of a rarefaction fan), and a function reval(xi) that gives the\n",
      "       solution at a point xi=x/t.\n",
      "       \n",
      "       The input and output vectors are the conserved quantities.\n",
      "    \"\"\"\n",
      "    rho_l, u_l, p_l = conservative_to_primitive(*q_l)\n",
      "    rho_r, u_r, p_r = conservative_to_primitive(*q_r)\n",
      "\n",
      "    # Compute left and right state sound speeds\n",
      "    c_l = np.sqrt(gamma*p_l/rho_l)\n",
      "    c_r = np.sqrt(gamma*p_r/rho_r)\n",
      "    \n",
      "    alpha = (gamma-1.)/(2.*gamma)\n",
      "    beta = (gamma+1.)/(gamma-1.)\n",
      "\n",
      "    # Check for cavitation\n",
      "    if u_l - u_r + 2*(c_l+c_r)/(gamma-1.) < 0:\n",
      "        print 'Cavitation detected!  Exiting.'\n",
      "        return None\n",
      "    \n",
      "    # Define the integral curves and hugoniot loci\n",
      "    integral_curve_1   = lambda p : u_l + 2*c_l/(gamma-1.)*(1.-(p/p_l)**((gamma-1.)/(2.*gamma)))\n",
      "    integral_curve_3   = lambda p : u_r - 2*c_r/(gamma-1.)*(1.-(p/p_r)**((gamma-1.)/(2.*gamma)))\n",
      "    hugoniot_locus_1 = lambda p : u_l + 2*c_l/np.sqrt(2*gamma*(gamma-1.)) * ((1-p/p_l)/np.sqrt(1+beta*p/p_l))\n",
      "    hugoniot_locus_3 = lambda p : u_r - 2*c_r/np.sqrt(2*gamma*(gamma-1.)) * ((1-p/p_r)/np.sqrt(1+beta*p/p_r))\n",
      "    \n",
      "    # Check whether the 1-wave is a shock or rarefaction\n",
      "    def phi_l(p):        \n",
      "        if p>=p_l: return hugoniot_locus_1(p)\n",
      "        else: return integral_curve_1(p)\n",
      "    \n",
      "    # Check whether the 1-wave is a shock or rarefaction\n",
      "    def phi_r(p):\n",
      "        if p>=p_r: return hugoniot_locus_3(p)\n",
      "        else: return integral_curve_3(p)\n",
      "        \n",
      "    phi = lambda p : phi_l(p)-phi_r(p)\n",
      "\n",
      "    # Compute middle state p, u by finding curve intersection\n",
      "    p,info, ier, msg = fsolve(phi, (p_l+p_r)/2.,full_output=True,xtol=1.e-14)\n",
      "    # For strong rarefactions, sometimes fsolve needs help\n",
      "    if ier!=1:\n",
      "        p,info, ier, msg = fsolve(phi, (p_l+p_r)/2.,full_output=True,factor=0.1,xtol=1.e-10)\n",
      "        # This should not happen:\n",
      "        if ier!=1: \n",
      "            print 'Warning: fsolve did not converge.'\n",
      "            print msg\n",
      "\n",
      "    u = phi_l(p)\n",
      "    \n",
      "    # Find middle state densities\n",
      "    rho_l_star = (p/p_l)**(1./gamma) * rho_l\n",
      "    rho_r_star = (p/p_r)**(1./gamma) * rho_r\n",
      "        \n",
      "    # compute the wave speeds\n",
      "    ws = np.zeros(5) \n",
      "    # The contact speed:\n",
      "    ws[2] = u\n",
      "    \n",
      "    # Find shock and rarefaction speeds\n",
      "    if p>p_l: \n",
      "        ws[0] = (rho_l*u_l - rho_l_star*u)/(rho_l - rho_l_star)\n",
      "        ws[1] = ws[0]\n",
      "    else:\n",
      "        c_l_star = np.sqrt(gamma*p/rho_l_star)\n",
      "        ws[0] = u_l - c_l\n",
      "        ws[1] = u - c_l_star\n",
      "\n",
      "    if p>p_r: \n",
      "        ws[4] = (rho_r*u_r - rho_r_star*u)/(rho_r - rho_r_star)\n",
      "        ws[3] = ws[4]\n",
      "    else:\n",
      "        c_r_star = np.sqrt(gamma*p/rho_r_star)\n",
      "        ws[3] = u+c_r_star\n",
      "        ws[4] = u_r + c_r    \n",
      "                \n",
      "    # Find solution inside rarefaction fans\n",
      "    def raref1(xi):\n",
      "        u1 = ((gamma-1.)*u_l + 2*(c_l + xi))/(gamma+1.)\n",
      "        rho1 = (rho_l**gamma*(u1-xi)**2/(gamma*p_l))**(1./(gamma-1.))\n",
      "        p1 = p_l*(rho1/rho_l)**gamma\n",
      "        return rho1, u1, p1\n",
      "        #return primitive_to_conservative(u1, rho1, p1)\n",
      "        \n",
      "    def raref3(xi):\n",
      "        u3 = ((gamma-1.)*u_r - 2*(c_r - xi))/(gamma+1.)\n",
      "        rho3 = (rho_r**gamma*(xi-u3)**2/(gamma*p_r))**(1./(gamma-1.))\n",
      "        p3 = p_r*(rho3/rho_r)**gamma\n",
      "        return rho3, u3, p3\n",
      "        #return primitive_to_conservative(rho3, u3, p3)\n",
      "    \n",
      "    q_l_star = primitive_to_conservative(rho_l_star,u,p)\n",
      "    q_r_star = primitive_to_conservative(rho_r_star,u,p)\n",
      "    \n",
      "    states = [q_l,q_l_star,q_r_star,q_r]\n",
      "    speeds = [(ws[0],ws[1]),ws[2],(ws[3],ws[4])]\n",
      "    rarefunctions = [raref1,None,raref3]\n",
      "\n",
      "    def reval(xi):\n",
      "        rar1 = raref1(xi)\n",
      "        rar3 = raref3(xi)\n",
      "        rho_out = (xi<=speeds[0][0])*rho_l + (xi>speeds[0][0])*(xi<=speeds[0][1])*rar1[0] + (xi>speeds[0][1])*(xi<=speeds[1])*rho_l_star + (xi>speeds[1])*(xi<=speeds[2][0])*rho_r_star + (xi>speeds[2][0])*(xi<=speeds[2][1])*rar3[0] + (xi>speeds[2][1])*rho_r\n",
      "        u_out   = (xi<=speeds[0][0])*u_l   + (xi>speeds[0][0])*(xi<=speeds[0][1])*rar1[1] + (xi>speeds[0][1])*(xi<=speeds[1])*u          + (xi>speeds[1])*(xi<=speeds[2][0])*u          + (xi>speeds[2][0])*(xi<=speeds[2][1])*rar3[1] + (xi>speeds[2][1])*u_r\n",
      "        p_out   = (xi<=speeds[0][0])*p_l   + (xi>speeds[0][0])*(xi<=speeds[0][1])*rar1[2] + (xi>speeds[0][1])*(xi<=speeds[1])*p          + (xi>speeds[1])*(xi<=speeds[2][0])*p          + (xi>speeds[2][0])*(xi<=speeds[2][1])*rar3[2] + (xi>speeds[2][1])*p_r        \n",
      "        return primitive_to_conservative(rho_out,u_out,p_out)\n",
      "\n",
      "    return states, speeds, reval"
     ],
     "language": "python",
     "metadata": {},
     "outputs": []
    },
    {
     "cell_type": "heading",
     "level": 1,
     "metadata": {},
     "source": [
      "<div id=\"examples\"></div>\n",
      "\n",
      "Examples"
     ]
    },
    {
     "cell_type": "markdown",
     "metadata": {},
     "source": [
      "Let's try this solver out on some interesting initial states.  Note that the Euler equations are invariant under Galilean transformations, so we can without loss of generality take $u_l+u_r=0$."
     ]
    },
    {
     "cell_type": "code",
     "collapsed": false,
     "input": [
      "gamma = 7./5."
     ],
     "language": "python",
     "metadata": {},
     "outputs": []
    },
    {
     "cell_type": "code",
     "collapsed": false,
     "input": [
      "def plot_exact_riemann_solution(rho_l=3.,u_l=0.,p_l=3.,rho_r=1.,u_r=0.,p_r=1.,t=0.4):    \n",
      "    q_l = primitive_to_conservative(rho_l,u_l,p_l)\n",
      "    q_r = primitive_to_conservative(rho_r,u_r,p_r)\n",
      "    \n",
      "    x = np.linspace(-1.,1.,1000)\n",
      "    states, speeds, reval = exact_riemann_solution(q_l, q_r, gamma=gamma)\n",
      "    q = reval(x/t)\n",
      "    primitive = conservative_to_primitive(q[0],q[1],q[2])\n",
      "    \n",
      "    fig = plt.figure(figsize=(18,6))\n",
      "    names = ['Density','Velocity','Pressure']\n",
      "    axes = [0]*3\n",
      "    for i in range(3):\n",
      "        axes[i] = fig.add_subplot(1,3,i+1)\n",
      "        q = primitive[i]\n",
      "        plt.plot(x,q,linewidth=3)\n",
      "        plt.title(names[i])\n",
      "        qmax = max(q)\n",
      "        qmin = min(q)\n",
      "        qdiff = qmax - qmin\n",
      "        axes[i].set_ylim((qmin-0.1*qdiff,qmax+0.1*qdiff))"
     ],
     "language": "python",
     "metadata": {},
     "outputs": []
    },
    {
     "cell_type": "markdown",
     "metadata": {},
     "source": [
      "<div id=\"sod\"></div>\n",
      "\n",
      "#1: Sod shock tube"
     ]
    },
    {
     "cell_type": "markdown",
     "metadata": {},
     "source": [
      "First we consider the classic shock tube problem, with high density and pressure on the left, low density and pressure on the right.  Both sides are initially at rest.  The solution includes a rarefaction, a contact, and a shock."
     ]
    },
    {
     "cell_type": "code",
     "collapsed": false,
     "input": [
      "plot_exact_riemann_solution(rho_l=3.,\n",
      "                            u_l = 0.,\n",
      "                            p_l = 3.,\n",
      "                            rho_r=1.,\n",
      "                            u_r = 0.,\n",
      "                            p_r = 1.)"
     ],
     "language": "python",
     "metadata": {},
     "outputs": []
    },
    {
     "cell_type": "heading",
     "level": 2,
     "metadata": {},
     "source": [
      "<div id=\"expansion\"></div>\n",
      "\n",
      "2: Symmetric expansion"
     ]
    },
    {
     "cell_type": "markdown",
     "metadata": {},
     "source": [
      "Next we consider the case of equal densities and pressures, and equal and opposite velocities, with the initial states moving away from each other.  The result is two rarefaction waves (the contact has zero strength)."
     ]
    },
    {
     "cell_type": "code",
     "collapsed": false,
     "input": [
      "plot_exact_riemann_solution(rho_l=1.,\n",
      "                            u_l = -3.,\n",
      "                            p_l = 1.,\n",
      "                            rho_r=1.,\n",
      "                            u_r = 3.,\n",
      "                            p_r = 1.,\n",
      "                            t = 0.1)"
     ],
     "language": "python",
     "metadata": {},
     "outputs": []
    },
    {
     "cell_type": "markdown",
     "metadata": {},
     "source": [
      "Notice that, by symmetry, we must have $u=0$ in the middle state.  As we make the initial velocities larger in magnitude, the rarefaction waves increase in strength until the pressure and density at $x=0$ reach zero.  In the plot above, the middle pressure is very close but not quite equal to zero.\n",
      "\n",
      "For what initial velocity $u_r=-u_l$ does the middle pressure vanish?  We can find it by solving the equation that describes the 3- (or 1-) Riemann invariant with $u=p=0$.  For $\\rho_r=p_r=1$, this gives $u_r \\approx 5.916$.  What happens if the velocities are set to larger than this value in the problem above?\n",
      "\n",
      "More generally, cavitation occurs if\n",
      "\n",
      "$$u_l + 2\\frac{c_l}{\\gamma-1} < u_r + 2\\frac{c_r}{\\gamma-1}.$$\n"
     ]
    },
    {
     "cell_type": "heading",
     "level": 2,
     "metadata": {},
     "source": [
      "<div id=\"collision\"></div>\n",
      "\n",
      "3: Colliding flows"
     ]
    },
    {
     "cell_type": "markdown",
     "metadata": {},
     "source": [
      "Next, consider the case in which the left and right states are moving toward eachother.  This leads to a pair of shocks, with a high-density, high-pressure state in between."
     ]
    },
    {
     "cell_type": "code",
     "collapsed": false,
     "input": [
      "plot_exact_riemann_solution(rho_l=1.,\n",
      "                            u_l = 3.,\n",
      "                            p_l = 1.,\n",
      "                            rho_r=1.,\n",
      "                            u_r = -3.,\n",
      "                            p_r = 1.,\n",
      "                            t = 0.4)"
     ],
     "language": "python",
     "metadata": {},
     "outputs": []
    },
    {
     "cell_type": "heading",
     "level": 2,
     "metadata": {},
     "source": [
      "<div id=\"interact\"></div>\n",
      "\n",
      "Interactive Riemann solver"
     ]
    },
    {
     "cell_type": "markdown",
     "metadata": {},
     "source": [
      "Here you can set up your own Riemann problem and immediately see the solution.  If you don't want to download and run the notebook, an online interactive version is [here](http://sagecell.sagemath.org/?z=eJytWNtu47YWfQ-Qf2BnHiLJsmzFGeAgqIsCnfaxOCgGpw-DwJAtOiaOLgwviTJf30VSlKjYSgdog8FEIdfeXPvKLbGat0KRRtf8lRSSNPz6irm1ulC8alXF9hl_NU9mn1fq-uoo2prIA-OvWcsVq9k3Snqho2yrZ3p9dX1V0iOhXXFQO8FoXTTNDltasbaJnnZV-rQTabf9vW1oqtyvx6Kui22e3cX311cEPx8-fPiDKi0aok7U6SJeB1GtXf3D6SZctPuK1uSFqRNhDVOsqIhUhaKSmOPwn8icWvx8geSgiUlyaGuuFS1JoQjsoQS2NiXhLWuUJB2JXk5UUDzUxSvZU1KQ_LP3mRDFazyqnpzBGqglz_SgWiEBpZbzoW0kFc847kkXjQJXkNwDaDZbrSDjwF_FqU11yh-ywSHuAeu7imyNZV_XD25NDyv5wyrc-HXYuO1XRiXC7ohAiV-xSkSgxG8YJW7tI_nF-Y1U9Og8JtjjSTm_IyRUSo3_HJpbGpGN8jLP4iQyxJZknX1KrD0JLEiS29jDxRlcBHABuHDw72IjW40VySkte0IHS6jhmXwSyh2UgOTKkok9RlzACIsRcejNouKnYsJ4Fd1mif2rB-6pGhELixjAgRUnevg_ObaCHIpnBu7IUbfHjjbISxulBblNIpiwAMVQEfmRrO-HJEQQkMLk5pdBFSmpQj7S8gcEtUPuNY_ZzYgXruBMQYbWfSSf6ZE1Ln-hkT4K1NdBI4uldfVJP7YNQ4-o2gPr6fawnYXtcixtSVXU-7IgnNxbW4wVMGIVxjnPlhFfIRJxkkQX3RnHF0_YnJ9gMsacIC6eIP72BG_WDmZpCRtmLfA5cus0JKPamCQkivKls2kA5guTD4lbvXzcZt6c7ztOXDxOxPE0ti7l0OMQXWFDnC9fimdqWmNB5KnFLvJRoCcd0YSHhDQtnp_Yrop4fO8zaMwl5Cv_aQvz7n1avXUn5EY4rSQdkG-TZ0D-W5yF4XzOVcxx3Xw31ymy72YnNo2ld9vSczlvYzUry4r6ZpoSTfavBEVYomRd6dmThaSBeTxlzbFNCaMiJbV8xKnuSo5wUEoiRGNh8-I2S4-6qnbuvtl-EZqmnWorXMB0md_Fns1vcKJUosWZgS9lioZaU3NXyv4A0pjWSk604kO7AosftnnYjv4JPXN2K7brLA-YrgNff8Sli_Aj-LoqSYNudCo4p800zj2pIFGDRvlnIRr4994bVTKnCHf2MxWPNOyVoxgs8fHTMMkH168NvkTwpmEtaSPt_R_c6zts2btvaIJ5tnJtCaVtIcEFPkGLS2jxNhk_-nnHlo0tmvBefJHuyvtGRSujT_Eg9cXNLsrOYUbg3gtgKICMvmCtK0R7GY_ZMznOVp5tEiNPaFwbjdEwGKDxjc5JNHq1m4HC5XiiIDcKrCK3bEt2RBxGR7-53ldzGi0lx-XgYxAept2GlfSh760Tb6y7G6yzc0xvhphaN12ectn01t3NWSfes25Wo154yXO6buowE9EQ5POm1bfE56LSJqnHbt220szNdrreFxLDb9tczj-4rDNd3Mwg93i0JlSskbw40AhXXGr-rde-8oFXI14Bv87-k9RFF0Gu2Muoi-NV8OeLnN5_nbSuTBR4_mnIoOHbUUmeF47L6eHNAcVb0klmHwsv1pmO361U3xbM6BDMGomfHcwMh4eOxX6KW9hx0AptzoTcBBAd7MNFIcQ3H0vHjwc6XwKNeXk1Trpx3y2C2WFQsRnz06vo2FJvpirErApuOOCMxCjJ-5m6V9UjNhYhLGLTT9QTxNjlcAsYPt2P286UYexeGOC2qPupX-k3c7eZD3v5uHfrBV1peMTtiNj0CDFFbEbEnUNshr07L-JfoAxXMmWr57nqWaZ6jqCe46WnrLTnxC9x4vOc-CwnPseJz3HiU07cc-r7RB_c1PktdVSB8Algp7WqxTuyyRLAUjMJdX5yOzIzQfBKZXjCq2aEX5J9o9soX6d3Qy4KVuOSRWVvx1dqt9UUZoDB8s1nexO_3qQ3_6PmHcY-_rd_hb3p4UXn0OuHZNMzwHjE0AjQBJpHGm3CmdKgvzLTOkErK8pyJ_XeWBPl6SZlizxowE_GDs8TQsHIBOusUJc-pWiD9IWV6rTdxFMIXFTRyNoD8VAzWh-Umwb4NFkGaSyzZrpcsuPRvOkbqaVFnRmUSap2rxWro8jsLzGQJVYuNVKL4U_vf_u5CAMyxqKD9B-KcGHUv9mgOdD4twni0KBtOwCfPLszt8n11c925kW3HZNjN_OZydb6Vlbo0QIu_5SayRFCha4U_JfqcXf56c32Ok75u8K25uf2c6NcvK_8PWFAxs9g7vsNn7wlo6jefjcJv9PwyQtvAPZfTcIG-2T1f7W6UjKoTM3BDx4iPEQ4iFVkIGLyTenvb-uhjIF85_OgORKFnhI0BfdhMPySEtQE9A2LQ59Agadd_BeW1ABm&lang=python)."
     ]
    },
    {
     "cell_type": "code",
     "collapsed": false,
     "input": [
      "from IPython.display import display, HTML\n",
      "from IPython.html import widgets\n",
      "from IPython.html.widgets import interact, interactive"
     ],
     "language": "python",
     "metadata": {},
     "outputs": []
    },
    {
     "cell_type": "code",
     "collapsed": false,
     "input": [
      "interact(plot_exact_riemann_solution,\n",
      "         rho_l=(1.,10.,0.1),\n",
      "         u_l=(-5.,5.,0.1),\n",
      "         p_l=(1.,10.,0.1),\n",
      "         rho_r=(1.,10.,0.1),\n",
      "         u_r=(-5.,5.,0.1),\n",
      "         p_r=(1.,10.,0.1),\n",
      "         t=(0.1,1.,0.1));"
     ],
     "language": "python",
     "metadata": {},
     "outputs": []
    },
    {
     "cell_type": "code",
     "collapsed": false,
     "input": [
      "x = np.array([1.,2.,3])"
     ],
     "language": "python",
     "metadata": {},
     "outputs": []
    },
    {
     "cell_type": "code",
     "collapsed": false,
     "input": [
      "x"
     ],
     "language": "python",
     "metadata": {},
     "outputs": []
    },
    {
     "cell_type": "code",
     "collapsed": false,
     "input": [
      "(1<x)*(x<3)"
     ],
     "language": "python",
     "metadata": {},
     "outputs": []
    },
    {
     "cell_type": "code",
     "collapsed": false,
     "input": [],
     "language": "python",
     "metadata": {},
     "outputs": []
    }
   ],
   "metadata": {}
  }
 ]
}