{
 "metadata": {
  "name": ""
 },
 "nbformat": 3,
 "nbformat_minor": 0,
 "worksheets": [
  {
   "cells": [
    {
     "cell_type": "markdown",
     "metadata": {},
     "source": [
      "# Solution of some Riemann problems for the shallow water equations\n",
      "\n",
      "This notebook illustrates the solution to several Riemann problems. In each case an animation shows the evolution of the depth $h(x,t)$ along with a passive tracer (the color of the water) that helps visualize the fluid velocity.  The solution always consists of two waves, each of which might be a shock wave or a rarefaction wave depending on where the left and right states lie in the phase plane.  For each case, a phase plane plot is shown that illustrates how the intermediate state and the nature of each wave can be determined by looking at the intersection of Hugoniot loci and/or integral curves.  This theory is discussed in Chapter 13 of the book \"Finite Volume Methods for Hyperbolic Problems\" and gives more dynamic version of some of the plots in that chapter, see also <http://clawpack.github.io/doc/fvmbook.html>. \n",
      "\n",
      "This notebook can be found in the Clawpack apps repository, see <http://clawpack.github.io/doc/apps.html> for instructions on downloading this repository.  \n",
      "\n",
      "Note that if you download this notebook alone (e.g. from nbviewer), you should be able to run the code that produces the phase plane plots (self-contained in the cells below) but not the cells that run Clawpack (the cells starting with `%%system`) or the cells that produce animations from those results.\n",
      "\n",
      "See <http://clawpack.github.io/doc/notebooks.html> for other Clawpack notebooks."
     ]
    },
    {
     "cell_type": "markdown",
     "metadata": {},
     "source": [
      "## Contents\n",
      "\n",
      " - <a href=\"#dambreak\">Dam break problem</a>\n",
      " - <a href=\"#twoshock\">Riemann problem for colliding flow (2 shock waves)</a>\n",
      " - <a href=\"#tworare\">Riemann problem for diverging flow (2 rarefaction waves)</a>\n",
      " - <a href=\"#tryit\">Try other states</a>\n"
     ]
    },
    {
     "cell_type": "markdown",
     "metadata": {},
     "source": [
      "First set up various things needed for all the examples:"
     ]
    },
    {
     "cell_type": "code",
     "collapsed": false,
     "input": [
      "%pylab inline"
     ],
     "language": "python",
     "metadata": {},
     "outputs": [],
     "prompt_number": null
    },
    {
     "cell_type": "markdown",
     "metadata": {},
     "source": [
      "Set the CLAW as environment variable before starting notebook, or specify as the second argument to os.environ.get below:"
     ]
    },
    {
     "cell_type": "code",
     "collapsed": false,
     "input": [
      "import os, sys\n",
      "CLAW = os.environ.get('CLAW','/Users/rjl/git/clawpack')  \n",
      "sys.path.append(CLAW)  # add to path so clawpack modules can be found\n",
      "os.environ['CLAW'] = CLAW\n",
      "os.environ['PYTHONPATH'] = CLAW  # so Fortran Makefiles work\n",
      "print \"Clawpack directory:  \",CLAW"
     ],
     "language": "python",
     "metadata": {},
     "outputs": [],
     "prompt_number": null
    },
    {
     "cell_type": "code",
     "collapsed": false,
     "input": [
      "example_dir = CLAW + '/apps/notebooks/riemann/shallow'\n",
      "os.chdir(example_dir)\n",
      "print \"Directory where this notebook is located:  \", os.getcwd()"
     ],
     "language": "python",
     "metadata": {},
     "outputs": [],
     "prompt_number": null
    },
    {
     "cell_type": "code",
     "collapsed": false,
     "input": [
      "def output_link(fname='output.txt'):\n",
      "    \"\"\"Display a link to file where system call output is saved\"\"\"\n",
      "    from IPython.display import FileLink\n",
      "    local_file = FileLink(fname)\n",
      "    print \"Check this file to see results from running code:\"\n",
      "    display(local_file)"
     ],
     "language": "python",
     "metadata": {},
     "outputs": [],
     "prompt_number": null
    },
    {
     "cell_type": "code",
     "collapsed": false,
     "input": [
      "%%system\n",
      "make .exe    # Compile the Fortran code and produce executable"
     ],
     "language": "python",
     "metadata": {},
     "outputs": [],
     "prompt_number": null
    },
    {
     "cell_type": "code",
     "collapsed": false,
     "input": [
      "import setrun\n",
      "rundata = setrun.setrun()  # initialize most run-time variables for clawpack\n",
      "outdir = '_output'"
     ],
     "language": "python",
     "metadata": {},
     "outputs": [],
     "prompt_number": null
    },
    {
     "cell_type": "heading",
     "level": 3,
     "metadata": {},
     "source": [
      "For making the animations below:"
     ]
    },
    {
     "cell_type": "code",
     "collapsed": false,
     "input": [
      "import glob\n",
      "from matplotlib import image\n",
      "from clawpack.visclaw.JSAnimation import IPython_display\n",
      "from matplotlib import animation\n",
      "\n",
      "def init():\n",
      "    im.set_data(image.imread(filenames[0]))\n",
      "    return im,\n",
      "\n",
      "def animate(i):\n",
      "    image_i=image.imread(filenames[i])\n",
      "    im.set_data(image_i)\n",
      "    return im,\n"
     ],
     "language": "python",
     "metadata": {},
     "outputs": [],
     "prompt_number": null
    },
    {
     "cell_type": "heading",
     "level": 3,
     "metadata": {},
     "source": [
      "Set up scripts to plot solution in phase plane $hu$ vs. $h$:"
     ]
    },
    {
     "cell_type": "code",
     "collapsed": false,
     "input": [
      "g = 1.  # gravitational constant used in book\n",
      "\n",
      "def integral_curve(h, hstar, hustar, wave_family):\n",
      "    \"\"\"Return hu as a function of h for integral curves through (hstar, hustar).\"\"\"\n",
      "    ustar = hustar / hstar\n",
      "    if wave_family == 1:\n",
      "        hu = h*ustar + 2*h*(sqrt(g*hstar) - sqrt(g*h))\n",
      "    else:\n",
      "        hu = h*ustar - 2*h*(sqrt(g*hstar) - sqrt(g*h))\n",
      "    return hu\n",
      "\n",
      "\n",
      "def hugoniot_locus(h, hstar, hustar, wave_family):\n",
      "    \"\"\"Return hu as a function of h for the Hugoniot locus through (hstar, hustar).\"\"\"\n",
      "    ustar = hustar / hstar\n",
      "    alpha = h - hstar\n",
      "    d = sqrt(g*hstar*(1 + alpha/hstar)*(1 + alpha/(2*hstar)))\n",
      "    if wave_family == 1:\n",
      "        hu = hustar + alpha*(ustar - d)\n",
      "    else: \n",
      "        hu = hustar + alpha*(ustar + d)\n",
      "    return hu\n",
      "\n",
      "    \n",
      "def phase_plane_curves(hstar, hustar, state, wave_family='both'):\n",
      "    \"\"\"\n",
      "    Plot the curves of points in the h - hu phase plane that can be connected to (hstar,hustar).\n",
      "    state = 'qleft' or 'qright' indicates whether the specified state is ql or qr. \n",
      "    wave_family = 1, 2, or 'both' indicates whether 1-waves or 2-waves should be plotted.\n",
      "    Colors in the plots indicate whether the states can be connected via a shock or rarefaction.\n",
      "    \"\"\"\n",
      "    \n",
      "    h = linspace(0, hstar, 200)\n",
      "\n",
      "    if wave_family in [1,'both']:\n",
      "        if state == 'qleft':\n",
      "            hu = integral_curve(h, hstar, hustar, 1)\n",
      "            plot(h,hu,'b', label='1-rarefactions')\n",
      "        else:\n",
      "            hu = hugoniot_locus(h, hstar, hustar, 1)\n",
      "            plot(h,hu,'r', label='1-shocks')\n",
      "    \n",
      "    if wave_family in [2,'both']:\n",
      "        if state == 'qleft':\n",
      "            hu = hugoniot_locus(h, hstar, hustar, 2)\n",
      "            plot(h,hu,'g', label='2-shocks')\n",
      "        else:\n",
      "            hu = integral_curve(h, hstar, hustar, 2)\n",
      "            plot(h,hu,'m', label='2-rarefactions')\n",
      "\n",
      "    h = linspace(hstar, 5, 200)\n",
      "\n",
      "    if wave_family in [1,'both']:\n",
      "        if state == 'qright':\n",
      "            hu = integral_curve(h, hstar, hustar, 1)\n",
      "            plot(h,hu,'b', label='1-rarefactions')\n",
      "        else:\n",
      "            hu = hugoniot_locus(h, hstar, hustar, 1)\n",
      "            plot(h,hu,'r', label='1-shocks')\n",
      "    \n",
      "    if wave_family in [2,'both']:\n",
      "        if state == 'qright':\n",
      "            hu = hugoniot_locus(h, hstar, hustar, 2)\n",
      "            plot(h,hu,'g', label='2-shocks')\n",
      "        else:\n",
      "            hu = integral_curve(h, hstar, hustar, 2)\n",
      "            plot(h,hu,'m', label='2-rarefactions')  \n",
      "            \n",
      "    # plot and label the point (hstar, hustar)\n",
      "    plot([hstar],[hustar],'ko',markersize=5)\n",
      "    text(hstar + 0.1, hustar - 0.2, state, fontsize=13)\n",
      "\n",
      "        \n",
      "def make_axes_and_label(x1=-.5, x2=6., y1=-2.5, y2=2.5):\n",
      "    plot([x1,x2],[0,0],'k')\n",
      "    plot([0,0],[y1,y2],'k')\n",
      "    axis([x1,x2,y1,y2])\n",
      "    legend()\n",
      "    xlabel(\"h = depth\",fontsize=15)\n",
      "    ylabel(\"hu = momentum\",fontsize=15)"
     ],
     "language": "python",
     "metadata": {},
     "outputs": [],
     "prompt_number": null
    },
    {
     "cell_type": "markdown",
     "metadata": {},
     "source": [
      "<div id=\"dambreak\"></div>\n",
      "\n",
      "## Dam break Riemann problem:\n",
      "\n",
      "The initial velocity is zero and the depth is greater to the left of $x=0$ than to the right.  The solution is a shock wave moving to the right and a rarefaction wave moving to the left.  The intermediate fluid velocity is positive."
     ]
    },
    {
     "cell_type": "code",
     "collapsed": false,
     "input": [
      "rundata.probdata.hl = hl = 3.\n",
      "rundata.probdata.ul = ul = 0.\n",
      "rundata.probdata.hr = hr = 1.\n",
      "rundata.probdata.ur = ur = 0.\n",
      "rundata.write()"
     ],
     "language": "python",
     "metadata": {},
     "outputs": [],
     "prompt_number": null
    },
    {
     "cell_type": "code",
     "collapsed": false,
     "input": [
      "%%system\n",
      "make output > output.txt\n",
      "make plots >> output.txt"
     ],
     "language": "python",
     "metadata": {},
     "outputs": [],
     "prompt_number": null
    },
    {
     "cell_type": "code",
     "collapsed": false,
     "input": [
      "output_link()"
     ],
     "language": "python",
     "metadata": {},
     "outputs": [],
     "prompt_number": null
    },
    {
     "cell_type": "code",
     "collapsed": false,
     "input": [
      "figno = 1\n",
      "fname = '_plots/*fig' + str(figno) + '.png'\n",
      "filenames=sorted(glob.glob(fname))\n",
      "\n",
      "fig = plt.figure(figsize=(10, 6),dpi=80)\n",
      "ax = fig.add_axes([0, 0, 1, 1])\n",
      "ax.axis('off')\n",
      "im = plt.imshow(image.imread(filenames[0]))\n",
      "\n",
      "\n",
      "animation.FuncAnimation(fig, animate, init_func=init,\n",
      "                              frames=len(filenames), interval=200, blit=True)"
     ],
     "language": "python",
     "metadata": {},
     "outputs": [],
     "prompt_number": null
    },
    {
     "cell_type": "markdown",
     "metadata": {},
     "source": [
      "###Phase Plane solution\n",
      "\n",
      "The solution for the dam break problem consists of a 1-rarefaction and a 2-shock.  In the phase plane, the intermediate state is where the 1-wave integral curve from $q_l = (h_l,h_lu_l)$ intersects the 2-wave Hugoniot locus from $q_r = (h_r,h_ru_r)$ "
     ]
    },
    {
     "cell_type": "code",
     "collapsed": false,
     "input": [
      "phase_plane_curves(hl, hl*ul, state='qleft', wave_family=1)\n",
      "phase_plane_curves(hr, hr*ur, state='qright', wave_family=2)\n",
      "make_axes_and_label()\n"
     ],
     "language": "python",
     "metadata": {},
     "outputs": [],
     "prompt_number": null
    },
    {
     "cell_type": "markdown",
     "metadata": {},
     "source": [
      "<div id=\"twoshock\"></div>\n",
      "\n",
      "## Symmetric inflow results in two outgoing shock waves\n",
      "\n",
      "The intermediate fluid velocity is zero, so this also flow models a wall at x=0 with flow towards wall:"
     ]
    },
    {
     "cell_type": "code",
     "collapsed": false,
     "input": [
      "rundata.probdata.hl = hl = 2.\n",
      "rundata.probdata.ul = ul = 0.5\n",
      "rundata.probdata.hr = hr = 2.\n",
      "rundata.probdata.ur = ur = -0.5\n",
      "rundata.write()"
     ],
     "language": "python",
     "metadata": {},
     "outputs": [],
     "prompt_number": null
    },
    {
     "cell_type": "code",
     "collapsed": false,
     "input": [
      "%%system\n",
      "make output > output.txt\n",
      "make plots >> output.txt"
     ],
     "language": "python",
     "metadata": {},
     "outputs": [],
     "prompt_number": null
    },
    {
     "cell_type": "code",
     "collapsed": false,
     "input": [
      "output_link()"
     ],
     "language": "python",
     "metadata": {},
     "outputs": [],
     "prompt_number": null
    },
    {
     "cell_type": "code",
     "collapsed": false,
     "input": [
      "fig = plt.figure(figsize=(10, 6),dpi=80)\n",
      "ax = fig.add_axes([0, 0, 1, 1])\n",
      "ax.axis('off')\n",
      "im = plt.imshow(image.imread(filenames[0]))\n",
      "\n",
      "animation.FuncAnimation(fig, animate, init_func=init,\n",
      "                              frames=len(filenames), interval=200, blit=True)"
     ],
     "language": "python",
     "metadata": {},
     "outputs": [],
     "prompt_number": null
    },
    {
     "cell_type": "markdown",
     "metadata": {},
     "source": [
      "###Phase Plane solution\n",
      "\n",
      "The phase plane solution in this case consists of two shock waves and the intermediate state is where the 2-wave Hugoniot locus from $q_l = (h_l,h_lu_l)$ intersects the 1-wave Hugoniot locus from $q_r = (h_r,h_ru_r)$ "
     ]
    },
    {
     "cell_type": "code",
     "collapsed": false,
     "input": [
      "phase_plane_curves(hl, hl*ul, state='qleft', wave_family=1)\n",
      "phase_plane_curves(hr, hr*ur, state='qright', wave_family=2)\n",
      "make_axes_and_label()"
     ],
     "language": "python",
     "metadata": {},
     "outputs": [],
     "prompt_number": null
    },
    {
     "cell_type": "markdown",
     "metadata": {},
     "source": [
      "<div id=\"tworare\"> </div>\n",
      "\n",
      "##Symmetric outflow giving double rarefaction wave (flow away from wall)"
     ]
    },
    {
     "cell_type": "code",
     "collapsed": false,
     "input": [
      "rundata.probdata.hl = hl = 2.\n",
      "rundata.probdata.ul = ul = -0.5\n",
      "rundata.probdata.hr = hr = 2.\n",
      "rundata.probdata.ur = ur = 0.5\n",
      "rundata.write()"
     ],
     "language": "python",
     "metadata": {},
     "outputs": [],
     "prompt_number": null
    },
    {
     "cell_type": "code",
     "collapsed": false,
     "input": [
      "%%system\n",
      "make output > output.txt\n",
      "make plots >> output.txt"
     ],
     "language": "python",
     "metadata": {},
     "outputs": [],
     "prompt_number": null
    },
    {
     "cell_type": "code",
     "collapsed": false,
     "input": [
      "output_link()"
     ],
     "language": "python",
     "metadata": {},
     "outputs": [],
     "prompt_number": null
    },
    {
     "cell_type": "code",
     "collapsed": false,
     "input": [
      "fig = plt.figure(figsize=(10, 6),dpi=80)\n",
      "ax = fig.add_axes([0, 0, 1, 1])\n",
      "ax.axis('off')\n",
      "im = plt.imshow(image.imread(filenames[0]))\n",
      "\n",
      "animation.FuncAnimation(fig, animate, init_func=init,\n",
      "                              frames=len(filenames), interval=200, blit=True)"
     ],
     "language": "python",
     "metadata": {},
     "outputs": [],
     "prompt_number": null
    },
    {
     "cell_type": "markdown",
     "metadata": {},
     "source": [
      "### Phase plane solution:\n",
      "\n",
      "The phase plane solution in this case consists of two rarefaction waves and the intermediate state is where the 2-wave integral curve from $q_l = (h_l,h_lu_l)$ intersects the 1-wave integral curve from $q_r = (h_r,h_ru_r)$ "
     ]
    },
    {
     "cell_type": "code",
     "collapsed": false,
     "input": [
      "phase_plane_curves(hl, hl*ul, state='qleft', wave_family=1)\n",
      "phase_plane_curves(hr, hr*ur, state='qright', wave_family=2)\n",
      "make_axes_and_label()"
     ],
     "language": "python",
     "metadata": {},
     "outputs": [],
     "prompt_number": null
    },
    {
     "cell_type": "markdown",
     "metadata": {},
     "source": [
      "<div id=\"tryit\"></div>\n",
      "\n",
      "## Try other states ql and qr:\n",
      "\n",
      "Now try it out yourself (this will only work if you have downloaded the Notebook and are running it yourself, and if you have Clawpack and its dependencies properly installed, see <http://clawpack.github.io/doc/installing.html>).\n",
      "\n",
      "You may need to adjust the functions `phase_plane_curves` and `make_axes_and_label` if you go outside the region that shows up in the plots."
     ]
    },
    {
     "cell_type": "code",
     "collapsed": false,
     "input": [
      "rundata.probdata.hl = hl = 0.5    ## Modify this to change depth in left state\n",
      "rundata.probdata.ul = ul = -1     ## Modify this to change velocity in left state\n",
      "rundata.probdata.hr = hr = 1.5    ## Modify this to change depth in right state\n",
      "rundata.probdata.ur = ur = -1     ## Modify this to change velocity in right state\n",
      "rundata.write()\n",
      "\n",
      "phase_plane_curves(hl, hl*ul, state='qleft', wave_family=1)\n",
      "phase_plane_curves(hr, hr*ur, state='qright', wave_family=2)\n",
      "make_axes_and_label()"
     ],
     "language": "python",
     "metadata": {},
     "outputs": [],
     "prompt_number": null
    },
    {
     "cell_type": "markdown",
     "metadata": {},
     "source": [
      "Play around with hl, ul, hr, ur in the above cell until you have an interesting case you'd like to try.  Then execute the next two cells to produce an animation of the solution.  These will take some time since Clawpack is run to compute the solution and then a sequence of plot images must be created..."
     ]
    },
    {
     "cell_type": "code",
     "collapsed": false,
     "input": [
      "%%system\n",
      "make output > output.txt\n",
      "make plots >> output.txt"
     ],
     "language": "python",
     "metadata": {},
     "outputs": [],
     "prompt_number": null
    },
    {
     "cell_type": "code",
     "collapsed": false,
     "input": [
      "output_link()"
     ],
     "language": "python",
     "metadata": {},
     "outputs": [],
     "prompt_number": null
    },
    {
     "cell_type": "code",
     "collapsed": false,
     "input": [
      "fig = plt.figure(figsize=(10, 6),dpi=80)\n",
      "ax = fig.add_axes([0, 0, 1, 1])\n",
      "ax.axis('off')\n",
      "im = plt.imshow(image.imread(filenames[0]))\n",
      "\n",
      "animation.FuncAnimation(fig, animate, init_func=init,\n",
      "                              frames=len(filenames), interval=200, blit=True)"
     ],
     "language": "python",
     "metadata": {},
     "outputs": [],
     "prompt_number": null
    }
   ],
   "metadata": {}
  }
 ]
}