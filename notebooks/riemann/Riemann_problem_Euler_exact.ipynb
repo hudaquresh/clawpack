{
 "cells": [
  {
   "cell_type": "markdown",
   "metadata": {},
   "source": [
    "# Euler equations: exact solutions\n",
    "\n",
    "This notebook illustrates some features of the exact solution to the 1-dimensional Euler equations of compressible gas dynamics.\n",
    "\n",
    "The notebook can be found in the clawpack apps respository:  \n",
    "\n",
    "- `$CLAW/apps/notebooks/riemann/Riemann_problem_Euler_exact.ipynb`\n",
    "- See http://www.clawpack.org/apps.html.\n",
    "\n"
   ]
  },
  {
   "cell_type": "code",
   "execution_count": null,
   "metadata": {
    "collapsed": false
   },
   "outputs": [],
   "source": [
    "%matplotlib inline\n",
    "import matplotlib.pyplot as plt\n",
    "import numpy as np\n",
    "from IPython.display import FileLink\n"
   ]
  },
  {
   "cell_type": "markdown",
   "metadata": {},
   "source": [
    "The next cell imports a module containing a function that takes a Riemann problem (left state, right state, and approximate solver), and computes the Riemann solution, as well as functions to plot the solution in various forms."
   ]
  },
  {
   "cell_type": "code",
   "execution_count": null,
   "metadata": {
    "collapsed": false
   },
   "outputs": [],
   "source": [
    "#from clawpack.riemann import riemann_tools\n",
    "\n",
    "# the version from clawpack.riemann needs updating, \n",
    "# for active development use the version in this repository instead:\n",
    "import sys\n",
    "sys.path.insert(0,'..')  \n",
    "import riemann_tools"
   ]
  },
  {
   "cell_type": "markdown",
   "metadata": {},
   "source": [
    "\n",
    "We can compute the exact solution to the Riemann problem for the Euler equations."
   ]
  },
  {
   "cell_type": "code",
   "execution_count": null,
   "metadata": {
    "collapsed": false
   },
   "outputs": [],
   "source": [
    "import Euler_exact_Riemann_solver\n",
    "FileLink('Euler_exact_Riemann_solver.py')  # Link to examine the exact Riemann solver"
   ]
  },
  {
   "cell_type": "code",
   "execution_count": null,
   "metadata": {
    "collapsed": false
   },
   "outputs": [],
   "source": [
    "gamma = 1.4\n",
    "\n",
    "in_vars = 'primitive'  # so components of q are (rho,u,p)\n",
    "\n",
    "q_l = np.array((3.,0.,3.))\n",
    "q_r = np.array((1.,0.,1.))\n",
    "\n",
    "states, speeds, riemann_eval = Euler_exact_Riemann_solver.exact_riemann_solution(q_l ,q_r, gamma, \n",
    "                                                                in_vars=in_vars, out_vars='primitive')"
   ]
  },
  {
   "cell_type": "markdown",
   "metadata": {},
   "source": [
    "Note that we specified `out_vars = 'primitive'` above, so that the states returned are in terms of the primitive variables (density, velocity, pressure).  This allows us to confirm that the pressure and velocity are constant across the 2-wave (contact discontinuity) and only the density has a jump discontinuity.\n",
    "\n",
    "Since the phase space is 3-dimensional, we show two different projections, to density-velocity and to density-pressure:"
   ]
  },
  {
   "cell_type": "code",
   "execution_count": null,
   "metadata": {
    "collapsed": false
   },
   "outputs": [],
   "source": [
    "fig = plt.figure(figsize=(8,3))\n",
    "ax = plt.subplot(1,2,1)\n",
    "riemann_tools.plot_phase(states, ax=ax, i_h = 0, i_v = 1, label_h='density', label_v='velocity')\n",
    "ax = plt.subplot(1,2,2)\n",
    "riemann_tools.plot_phase(states, ax=ax, i_h = 0, i_v = 2, label_h='density', label_v='pressure')"
   ]
  },
  {
   "cell_type": "markdown",
   "metadata": {},
   "source": [
    "In both cases we see that the variable on the vertical axis is constant between the two middle states.\n",
    "\n",
    "We can also see this in the solution plotted below."
   ]
  },
  {
   "cell_type": "code",
   "execution_count": null,
   "metadata": {
    "collapsed": false
   },
   "outputs": [],
   "source": [
    "riemann_tools.JSAnimate_plot_riemann(states,speeds,riemann_eval)"
   ]
  },
  {
   "cell_type": "markdown",
   "metadata": {},
   "source": [
    "### Plot particle trajectories\n",
    "\n",
    "Since `q[1]` represents fluid velocity in the primitive equations, we can integrate this to also compute the particle trajectories of gas molecules.  \n",
    "\n",
    "We choose the number of particles on each side so that the distance between them is inversely proportional to the density on each side."
   ]
  },
  {
   "cell_type": "code",
   "execution_count": null,
   "metadata": {
    "collapsed": false
   },
   "outputs": [],
   "source": [
    "rho_left = q_l[0]\n",
    "rho_right = q_r[0]\n",
    "num_right = 10\n",
    "num_left = 1 + (num_right-1) * rho_left/rho_right\n",
    "\n",
    "riemann_tools.plot_riemann_trajectories(states,speeds,riemann_eval,i_vel=1,\n",
    "                                       num_left=num_left, num_right=num_right)"
   ]
  },
  {
   "cell_type": "markdown",
   "metadata": {},
   "source": [
    "Note that particles are instantaneously accelerated as the shock wave passes by for particles starting at locations $x_0 > 0$, whereas particles starting in the region $x_0 < 0$ are smoothly accelerated as the rarefaction passes.  Both sets of particles reach the same velocity $u^*$ in the intermediate state, and travel parallel to the contact discontinuity (which also has propagation speed $s_2 = u^*$).\n",
    "\n",
    "Also notice that the the denisty increases across the shock wave (compression wave) whereas it decreases across the rarefaction wave (expansion fan), and that there resulting flow has a discontinuity in density across the contact discontinuity."
   ]
  },
  {
   "cell_type": "markdown",
   "metadata": {},
   "source": [
    "### Plot the solution in conservative variables\n",
    "\n",
    "If we plot the solution in the conservative variables (density, momentum, energy), we see that all three components have jump discontinuities across the contact discontinuity."
   ]
  },
  {
   "cell_type": "code",
   "execution_count": null,
   "metadata": {
    "collapsed": false
   },
   "outputs": [],
   "source": [
    "states, speeds, riemann_eval = Euler_exact_Riemann_solver.exact_riemann_solution(q_l ,q_r, gamma, \n",
    "                                                                in_vars='primitive', out_vars='conservative')\n",
    "\n",
    "fig = plt.figure(figsize=(8,3))\n",
    "ax = plt.subplot(1,2,1)\n",
    "riemann_tools.plot_phase(states, ax=ax, i_h = 0, i_v = 1, label_h='density', label_v='momentum')\n",
    "ax = plt.subplot(1,2,2)\n",
    "riemann_tools.plot_phase(states, ax=ax, i_h = 0, i_v = 2, label_h='density', label_v='energy')"
   ]
  },
  {
   "cell_type": "code",
   "execution_count": null,
   "metadata": {
    "collapsed": false
   },
   "outputs": [],
   "source": [
    "riemann_tools.JSAnimate_plot_riemann(states,speeds,riemann_eval)"
   ]
  },
  {
   "cell_type": "code",
   "execution_count": null,
   "metadata": {
    "collapsed": false
   },
   "outputs": [],
   "source": []
  }
 ],
 "metadata": {
  "kernelspec": {
   "display_name": "Python 2",
   "language": "python",
   "name": "python2"
  },
  "language_info": {
   "codemirror_mode": {
    "name": "ipython",
    "version": 2
   },
   "file_extension": ".py",
   "mimetype": "text/x-python",
   "name": "python",
   "nbconvert_exporter": "python",
   "pygments_lexer": "ipython2",
   "version": "2.7.12"
  }
 },
 "nbformat": 4,
 "nbformat_minor": 0
}
