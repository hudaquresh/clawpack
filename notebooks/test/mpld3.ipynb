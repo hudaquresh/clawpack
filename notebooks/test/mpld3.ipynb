{
 "cells": [
  {
   "cell_type": "markdown",
   "metadata": {},
   "source": [
    "# mpld3 examples\n",
    "\n",
    "Running this notebook requires installing mpld3.\n",
    "\n",
    "The first set of examples are directly from <http://mpld3.github.io/examples/index.html>"
   ]
  },
  {
   "cell_type": "code",
   "execution_count": null,
   "metadata": {
    "collapsed": false
   },
   "outputs": [],
   "source": [
    "import sys\n",
    "import matplotlib.pyplot as plt\n",
    "import matplotlib\n",
    "import numpy as np\n",
    "\n",
    "import mpld3\n",
    "from mpld3 import plugins, utils\n",
    "\n",
    "import jinja2\n",
    "import json"
   ]
  },
  {
   "cell_type": "code",
   "execution_count": null,
   "metadata": {
    "collapsed": false
   },
   "outputs": [],
   "source": [
    "\n",
    "fig, ax = plt.subplots()\n",
    "\n",
    "x = np.linspace(-2, 2, 20)\n",
    "y = x[:, None]\n",
    "X = np.zeros((20, 20, 4))\n",
    "\n",
    "X[:, :, 0] = np.exp(- (x - 1) ** 2 - (y) ** 2)\n",
    "X[:, :, 1] = np.exp(- (x + 0.71) ** 2 - (y - 0.71) ** 2)\n",
    "X[:, :, 2] = np.exp(- (x + 0.71) ** 2 - (y + 0.71) ** 2)\n",
    "X[:, :, 3] = np.exp(-0.25 * (x ** 2 + y ** 2))\n",
    "\n",
    "im = ax.imshow(X, extent=(10, 20, 10, 20),\n",
    "               origin='lower', zorder=1, interpolation='nearest')\n",
    "fig.colorbar(im, ax=ax)\n",
    "\n",
    "ax.set_title('An Image', size=20)\n",
    "\n",
    "plugins.connect(fig, plugins.MousePosition(fontsize=14))\n",
    "\n",
    "mpld3.display()"
   ]
  },
  {
   "cell_type": "code",
   "execution_count": null,
   "metadata": {
    "collapsed": false
   },
   "outputs": [],
   "source": [
    "\n",
    "\n",
    "class HighlightLines(plugins.PluginBase):\n",
    "    \"\"\"A plugin to highlight lines on hover\"\"\"\n",
    "\n",
    "    JAVASCRIPT = \"\"\"\n",
    "    mpld3.register_plugin(\"linehighlight\", LineHighlightPlugin);\n",
    "    LineHighlightPlugin.prototype = Object.create(mpld3.Plugin.prototype);\n",
    "    LineHighlightPlugin.prototype.constructor = LineHighlightPlugin;\n",
    "    LineHighlightPlugin.prototype.requiredProps = [\"line_ids\"];\n",
    "    LineHighlightPlugin.prototype.defaultProps = {alpha_bg:0.3, alpha_fg:1.0}\n",
    "    function LineHighlightPlugin(fig, props){\n",
    "        mpld3.Plugin.call(this, fig, props);\n",
    "    };\n",
    "\n",
    "    LineHighlightPlugin.prototype.draw = function(){\n",
    "      for(var i=0; i<this.props.line_ids.length; i++){\n",
    "         var obj = mpld3.get_element(this.props.line_ids[i], this.fig),\n",
    "             alpha_fg = this.props.alpha_fg;\n",
    "             alpha_bg = this.props.alpha_bg;\n",
    "         obj.elements()\n",
    "             .on(\"mouseover\", function(d, i){\n",
    "                            d3.select(this).transition().duration(50)\n",
    "                              .style(\"stroke-opacity\", alpha_fg); })\n",
    "             .on(\"mouseout\", function(d, i){\n",
    "                            d3.select(this).transition().duration(200)\n",
    "                              .style(\"stroke-opacity\", alpha_bg); });\n",
    "      }\n",
    "    };\n",
    "    \"\"\"\n",
    "\n",
    "    def __init__(self, lines):\n",
    "        self.lines = lines\n",
    "        self.dict_ = {\"type\": \"linehighlight\",\n",
    "                      \"line_ids\": [utils.get_id(line) for line in lines],\n",
    "                      \"alpha_bg\": lines[0].get_alpha(),\n",
    "                      \"alpha_fg\": 1.0}\n",
    "\n",
    "\n",
    "N_paths = 50\n",
    "N_steps = 100\n",
    "\n",
    "x = np.linspace(0, 10, 100)\n",
    "y = 0.1 * (np.random.random((N_paths, N_steps)) - 0.5)\n",
    "y = y.cumsum(1)\n",
    "\n",
    "fig, ax = plt.subplots(subplot_kw={'xticks': [], 'yticks': []})\n",
    "lines = ax.plot(x, y.T, color='blue', lw=4, alpha=0.1)\n",
    "plugins.connect(fig, HighlightLines(lines))\n",
    "\n",
    "mpld3.display()"
   ]
  },
  {
   "cell_type": "code",
   "execution_count": null,
   "metadata": {
    "collapsed": false
   },
   "outputs": [],
   "source": [
    "\n",
    "\n",
    "class LinkedView(plugins.PluginBase):\n",
    "    \"\"\"A simple plugin showing how multiple axes can be linked\"\"\"\n",
    "\n",
    "    JAVASCRIPT = \"\"\"\n",
    "    mpld3.register_plugin(\"linkedview\", LinkedViewPlugin);\n",
    "    LinkedViewPlugin.prototype = Object.create(mpld3.Plugin.prototype);\n",
    "    LinkedViewPlugin.prototype.constructor = LinkedViewPlugin;\n",
    "    LinkedViewPlugin.prototype.requiredProps = [\"idpts\", \"idline\", \"data\"];\n",
    "    LinkedViewPlugin.prototype.defaultProps = {}\n",
    "    function LinkedViewPlugin(fig, props){\n",
    "        mpld3.Plugin.call(this, fig, props);\n",
    "    };\n",
    "\n",
    "    LinkedViewPlugin.prototype.draw = function(){\n",
    "      var pts = mpld3.get_element(this.props.idpts);\n",
    "      var line = mpld3.get_element(this.props.idline);\n",
    "      var data = this.props.data;\n",
    "\n",
    "      function mouseover(d, i){\n",
    "        line.data = data[i];\n",
    "        line.elements().transition()\n",
    "            .attr(\"d\", line.datafunc(line.data))\n",
    "            .style(\"stroke\", this.style.fill);\n",
    "      }\n",
    "      pts.elements().on(\"mouseover\", mouseover);\n",
    "    };\n",
    "    \"\"\"\n",
    "\n",
    "    def __init__(self, points, line, linedata):\n",
    "        if isinstance(points, matplotlib.lines.Line2D):\n",
    "            suffix = \"pts\"\n",
    "        else:\n",
    "            suffix = None\n",
    "\n",
    "        self.dict_ = {\"type\": \"linkedview\",\n",
    "                      \"idpts\": utils.get_id(points, suffix),\n",
    "                      \"idline\": utils.get_id(line),\n",
    "                      \"data\": linedata}\n",
    "\n",
    "fig, ax = plt.subplots(2)\n",
    "\n",
    "# scatter periods and amplitudes\n",
    "np.random.seed(0)\n",
    "P = 0.2 + np.random.random(size=20)\n",
    "A = np.random.random(size=20)\n",
    "x = np.linspace(0, 10, 100)\n",
    "data = np.array([[x, Ai * np.sin(x / Pi)]\n",
    "                 for (Ai, Pi) in zip(A, P)])\n",
    "points = ax[1].scatter(P, A, c=P + A,\n",
    "                       s=200, alpha=0.5)\n",
    "ax[1].set_xlabel('Period')\n",
    "ax[1].set_ylabel('Amplitude')\n",
    "\n",
    "# create the line object\n",
    "lines = ax[0].plot(x, 0 * x, '-w', lw=3, alpha=0.5)\n",
    "ax[0].set_ylim(-1, 1)\n",
    "\n",
    "ax[0].set_title(\"Hover over points to see lines\")\n",
    "\n",
    "# transpose line data and add plugin\n",
    "linedata = data.transpose(0, 2, 1).tolist()\n",
    "plugins.connect(fig, LinkedView(points, lines[0], linedata))\n",
    "\n",
    "mpld3.display()"
   ]
  },
  {
   "cell_type": "markdown",
   "metadata": {},
   "source": [
    "## Some new examples"
   ]
  },
  {
   "cell_type": "code",
   "execution_count": null,
   "metadata": {
    "collapsed": false
   },
   "outputs": [],
   "source": [
    "fig, ax = plt.subplots(1,2,figsize=(12,5))\n",
    "a1 = np.linspace(-1,1,5)\n",
    "b1 = np.linspace(1,2,5)\n",
    "A,B = np.meshgrid(a1,b1)\n",
    "avals = A.flatten()\n",
    "bvals = B.flatten()\n",
    "\n",
    "points = ax[0].scatter(avals,bvals,s=600)\n",
    "ax[0].set_title('Hover over a point')\n",
    "ax[0].set_xlabel('center x0')\n",
    "ax[0].set_ylabel('amplitude')\n",
    "\n",
    "\n",
    "# data for all the lines we want to create:\n",
    "x = np.linspace(-2,2,1001)\n",
    "data = np.array([[x, b*np.exp(-3*(x-a)**2)]\n",
    "                 for (a,b) in zip(avals, bvals)])\n",
    "\n",
    "# create the line object\n",
    "lines = ax[1].plot(x, 0 * x, '-w', lw=3, alpha=0.5)\n",
    "\n",
    "ax[1].set_ylim(-0.5, 2.5)\n",
    "ax[1].set_xlabel('x')\n",
    "ax[1].set_title('Gaussian A*exp(-3*(x-x0)**2)')\n",
    "\n",
    "# transpose line data and add plugin\n",
    "linedata = data.transpose(0, 2, 1).tolist()\n",
    "plugins.connect(fig, LinkedView(points, lines[0], linedata))\n",
    "\n",
    "mpld3.display()\n"
   ]
  },
  {
   "cell_type": "markdown",
   "metadata": {},
   "source": [
    "How hard would it be to do something similar with a contour plot on the right instead of a line plot?  For example, if the points you hover over represent $(x_0,y_0)$ and contour lines of $\\exp(-((x-x_0)^2+(y-y_0)^2))$ are drawn on the right?"
   ]
  },
  {
   "cell_type": "code",
   "execution_count": null,
   "metadata": {
    "collapsed": false
   },
   "outputs": [],
   "source": []
  }
 ],
 "metadata": {
  "kernelspec": {
   "display_name": "Python 2",
   "language": "python",
   "name": "python2"
  },
  "language_info": {
   "codemirror_mode": {
    "name": "ipython",
    "version": 2
   },
   "file_extension": ".py",
   "mimetype": "text/x-python",
   "name": "python",
   "nbconvert_exporter": "python",
   "pygments_lexer": "ipython2",
   "version": "2.7.12"
  }
 },
 "nbformat": 4,
 "nbformat_minor": 0
}
